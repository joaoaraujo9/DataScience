{
 "metadata": {
  "language_info": {
   "codemirror_mode": {
    "name": "ipython",
    "version": 3
   },
   "file_extension": ".py",
   "mimetype": "text/x-python",
   "name": "python",
   "nbconvert_exporter": "python",
   "pygments_lexer": "ipython3",
   "version": "3.8.3-final"
  },
  "orig_nbformat": 2,
  "kernelspec": {
   "name": "python3",
   "display_name": "Python 3",
   "language": "python"
  }
 },
 "nbformat": 4,
 "nbformat_minor": 2,
 "cells": [
  {
   "cell_type": "code",
   "execution_count": 1,
   "metadata": {},
   "outputs": [],
   "source": [
    "import pandas as pd \n",
    "import seaborn as sns\n",
    "import numpy as np\n",
    "import matplotlib.pyplot as plt"
   ]
  },
  {
   "cell_type": "code",
   "execution_count": 2,
   "metadata": {},
   "outputs": [],
   "source": [
    "data = pd.read_csv('C:/Users/joao_/Desktop/4 ANO JOAO/SINO/DataSets SINO/bank/bank-full.csv', sep = \";\")"
   ]
  },
  {
   "cell_type": "code",
   "execution_count": 3,
   "metadata": {},
   "outputs": [
    {
     "output_type": "execute_result",
     "data": {
      "text/plain": [
       "   age           job  marital  education default  balance housing loan  \\\n",
       "0   58    management  married   tertiary      no     2143     yes   no   \n",
       "1   44    technician   single  secondary      no       29     yes   no   \n",
       "2   33  entrepreneur  married  secondary      no        2     yes  yes   \n",
       "3   47   blue-collar  married    unknown      no     1506     yes   no   \n",
       "4   33       unknown   single    unknown      no        1      no   no   \n",
       "\n",
       "   contact  day month  duration  campaign  pdays  previous poutcome   y  \n",
       "0  unknown    5   may       261         1     -1         0  unknown  no  \n",
       "1  unknown    5   may       151         1     -1         0  unknown  no  \n",
       "2  unknown    5   may        76         1     -1         0  unknown  no  \n",
       "3  unknown    5   may        92         1     -1         0  unknown  no  \n",
       "4  unknown    5   may       198         1     -1         0  unknown  no  "
      ],
      "text/html": "<div>\n<style scoped>\n    .dataframe tbody tr th:only-of-type {\n        vertical-align: middle;\n    }\n\n    .dataframe tbody tr th {\n        vertical-align: top;\n    }\n\n    .dataframe thead th {\n        text-align: right;\n    }\n</style>\n<table border=\"1\" class=\"dataframe\">\n  <thead>\n    <tr style=\"text-align: right;\">\n      <th></th>\n      <th>age</th>\n      <th>job</th>\n      <th>marital</th>\n      <th>education</th>\n      <th>default</th>\n      <th>balance</th>\n      <th>housing</th>\n      <th>loan</th>\n      <th>contact</th>\n      <th>day</th>\n      <th>month</th>\n      <th>duration</th>\n      <th>campaign</th>\n      <th>pdays</th>\n      <th>previous</th>\n      <th>poutcome</th>\n      <th>y</th>\n    </tr>\n  </thead>\n  <tbody>\n    <tr>\n      <th>0</th>\n      <td>58</td>\n      <td>management</td>\n      <td>married</td>\n      <td>tertiary</td>\n      <td>no</td>\n      <td>2143</td>\n      <td>yes</td>\n      <td>no</td>\n      <td>unknown</td>\n      <td>5</td>\n      <td>may</td>\n      <td>261</td>\n      <td>1</td>\n      <td>-1</td>\n      <td>0</td>\n      <td>unknown</td>\n      <td>no</td>\n    </tr>\n    <tr>\n      <th>1</th>\n      <td>44</td>\n      <td>technician</td>\n      <td>single</td>\n      <td>secondary</td>\n      <td>no</td>\n      <td>29</td>\n      <td>yes</td>\n      <td>no</td>\n      <td>unknown</td>\n      <td>5</td>\n      <td>may</td>\n      <td>151</td>\n      <td>1</td>\n      <td>-1</td>\n      <td>0</td>\n      <td>unknown</td>\n      <td>no</td>\n    </tr>\n    <tr>\n      <th>2</th>\n      <td>33</td>\n      <td>entrepreneur</td>\n      <td>married</td>\n      <td>secondary</td>\n      <td>no</td>\n      <td>2</td>\n      <td>yes</td>\n      <td>yes</td>\n      <td>unknown</td>\n      <td>5</td>\n      <td>may</td>\n      <td>76</td>\n      <td>1</td>\n      <td>-1</td>\n      <td>0</td>\n      <td>unknown</td>\n      <td>no</td>\n    </tr>\n    <tr>\n      <th>3</th>\n      <td>47</td>\n      <td>blue-collar</td>\n      <td>married</td>\n      <td>unknown</td>\n      <td>no</td>\n      <td>1506</td>\n      <td>yes</td>\n      <td>no</td>\n      <td>unknown</td>\n      <td>5</td>\n      <td>may</td>\n      <td>92</td>\n      <td>1</td>\n      <td>-1</td>\n      <td>0</td>\n      <td>unknown</td>\n      <td>no</td>\n    </tr>\n    <tr>\n      <th>4</th>\n      <td>33</td>\n      <td>unknown</td>\n      <td>single</td>\n      <td>unknown</td>\n      <td>no</td>\n      <td>1</td>\n      <td>no</td>\n      <td>no</td>\n      <td>unknown</td>\n      <td>5</td>\n      <td>may</td>\n      <td>198</td>\n      <td>1</td>\n      <td>-1</td>\n      <td>0</td>\n      <td>unknown</td>\n      <td>no</td>\n    </tr>\n  </tbody>\n</table>\n</div>"
     },
     "metadata": {},
     "execution_count": 3
    }
   ],
   "source": [
    "data.head()"
   ]
  },
  {
   "cell_type": "code",
   "execution_count": 4,
   "metadata": {},
   "outputs": [
    {
     "output_type": "execute_result",
     "data": {
      "text/plain": [
       "(45211, 17)"
      ]
     },
     "metadata": {},
     "execution_count": 4
    }
   ],
   "source": [
    "data.shape"
   ]
  },
  {
   "cell_type": "code",
   "execution_count": 5,
   "metadata": {},
   "outputs": [
    {
     "output_type": "execute_result",
     "data": {
      "text/plain": [
       "0         no\n",
       "1         no\n",
       "2         no\n",
       "3         no\n",
       "4         no\n",
       "        ... \n",
       "45206    yes\n",
       "45207    yes\n",
       "45208    yes\n",
       "45209     no\n",
       "45210     no\n",
       "Name: y, Length: 45211, dtype: object"
      ]
     },
     "metadata": {},
     "execution_count": 5
    }
   ],
   "source": [
    "data['y']"
   ]
  },
  {
   "cell_type": "code",
   "execution_count": 6,
   "metadata": {},
   "outputs": [
    {
     "output_type": "execute_result",
     "data": {
      "text/plain": [
       "                age        balance           day      duration      campaign  \\\n",
       "count  45211.000000   45211.000000  45211.000000  45211.000000  45211.000000   \n",
       "mean      40.936210    1362.272058     15.806419    258.163080      2.763841   \n",
       "std       10.618762    3044.765829      8.322476    257.527812      3.098021   \n",
       "min       18.000000   -8019.000000      1.000000      0.000000      1.000000   \n",
       "25%       33.000000      72.000000      8.000000    103.000000      1.000000   \n",
       "50%       39.000000     448.000000     16.000000    180.000000      2.000000   \n",
       "75%       48.000000    1428.000000     21.000000    319.000000      3.000000   \n",
       "max       95.000000  102127.000000     31.000000   4918.000000     63.000000   \n",
       "\n",
       "              pdays      previous  \n",
       "count  45211.000000  45211.000000  \n",
       "mean      40.197828      0.580323  \n",
       "std      100.128746      2.303441  \n",
       "min       -1.000000      0.000000  \n",
       "25%       -1.000000      0.000000  \n",
       "50%       -1.000000      0.000000  \n",
       "75%       -1.000000      0.000000  \n",
       "max      871.000000    275.000000  "
      ],
      "text/html": "<div>\n<style scoped>\n    .dataframe tbody tr th:only-of-type {\n        vertical-align: middle;\n    }\n\n    .dataframe tbody tr th {\n        vertical-align: top;\n    }\n\n    .dataframe thead th {\n        text-align: right;\n    }\n</style>\n<table border=\"1\" class=\"dataframe\">\n  <thead>\n    <tr style=\"text-align: right;\">\n      <th></th>\n      <th>age</th>\n      <th>balance</th>\n      <th>day</th>\n      <th>duration</th>\n      <th>campaign</th>\n      <th>pdays</th>\n      <th>previous</th>\n    </tr>\n  </thead>\n  <tbody>\n    <tr>\n      <th>count</th>\n      <td>45211.000000</td>\n      <td>45211.000000</td>\n      <td>45211.000000</td>\n      <td>45211.000000</td>\n      <td>45211.000000</td>\n      <td>45211.000000</td>\n      <td>45211.000000</td>\n    </tr>\n    <tr>\n      <th>mean</th>\n      <td>40.936210</td>\n      <td>1362.272058</td>\n      <td>15.806419</td>\n      <td>258.163080</td>\n      <td>2.763841</td>\n      <td>40.197828</td>\n      <td>0.580323</td>\n    </tr>\n    <tr>\n      <th>std</th>\n      <td>10.618762</td>\n      <td>3044.765829</td>\n      <td>8.322476</td>\n      <td>257.527812</td>\n      <td>3.098021</td>\n      <td>100.128746</td>\n      <td>2.303441</td>\n    </tr>\n    <tr>\n      <th>min</th>\n      <td>18.000000</td>\n      <td>-8019.000000</td>\n      <td>1.000000</td>\n      <td>0.000000</td>\n      <td>1.000000</td>\n      <td>-1.000000</td>\n      <td>0.000000</td>\n    </tr>\n    <tr>\n      <th>25%</th>\n      <td>33.000000</td>\n      <td>72.000000</td>\n      <td>8.000000</td>\n      <td>103.000000</td>\n      <td>1.000000</td>\n      <td>-1.000000</td>\n      <td>0.000000</td>\n    </tr>\n    <tr>\n      <th>50%</th>\n      <td>39.000000</td>\n      <td>448.000000</td>\n      <td>16.000000</td>\n      <td>180.000000</td>\n      <td>2.000000</td>\n      <td>-1.000000</td>\n      <td>0.000000</td>\n    </tr>\n    <tr>\n      <th>75%</th>\n      <td>48.000000</td>\n      <td>1428.000000</td>\n      <td>21.000000</td>\n      <td>319.000000</td>\n      <td>3.000000</td>\n      <td>-1.000000</td>\n      <td>0.000000</td>\n    </tr>\n    <tr>\n      <th>max</th>\n      <td>95.000000</td>\n      <td>102127.000000</td>\n      <td>31.000000</td>\n      <td>4918.000000</td>\n      <td>63.000000</td>\n      <td>871.000000</td>\n      <td>275.000000</td>\n    </tr>\n  </tbody>\n</table>\n</div>"
     },
     "metadata": {},
     "execution_count": 6
    }
   ],
   "source": [
    "data.describe()"
   ]
  },
  {
   "cell_type": "code",
   "execution_count": 7,
   "metadata": {},
   "outputs": [],
   "source": [
    "data_yes = data[data.y == 'yes']"
   ]
  },
  {
   "cell_type": "code",
   "execution_count": 8,
   "metadata": {},
   "outputs": [
    {
     "output_type": "execute_result",
     "data": {
      "text/plain": [
       "       age         job   marital  education default  balance housing loan  \\\n",
       "83      59      admin.   married  secondary      no     2343     yes   no   \n",
       "86      56      admin.   married  secondary      no       45      no   no   \n",
       "87      41  technician   married  secondary      no     1270     yes   no   \n",
       "129     55    services   married  secondary      no     2476     yes   no   \n",
       "168     54      admin.   married   tertiary      no      184      no   no   \n",
       "...    ...         ...       ...        ...     ...      ...     ...  ...   \n",
       "45204   73     retired   married  secondary      no     2850      no   no   \n",
       "45205   25  technician    single  secondary      no      505      no  yes   \n",
       "45206   51  technician   married   tertiary      no      825      no   no   \n",
       "45207   71     retired  divorced    primary      no     1729      no   no   \n",
       "45208   72     retired   married  secondary      no     5715      no   no   \n",
       "\n",
       "        contact  day month  duration  campaign  pdays  previous poutcome    y  \n",
       "83      unknown    5   may      1042         1     -1         0  unknown  yes  \n",
       "86      unknown    5   may      1467         1     -1         0  unknown  yes  \n",
       "87      unknown    5   may      1389         1     -1         0  unknown  yes  \n",
       "129     unknown    5   may       579         1     -1         0  unknown  yes  \n",
       "168     unknown    5   may       673         2     -1         0  unknown  yes  \n",
       "...         ...  ...   ...       ...       ...    ...       ...      ...  ...  \n",
       "45204  cellular   17   nov       300         1     40         8  failure  yes  \n",
       "45205  cellular   17   nov       386         2     -1         0  unknown  yes  \n",
       "45206  cellular   17   nov       977         3     -1         0  unknown  yes  \n",
       "45207  cellular   17   nov       456         2     -1         0  unknown  yes  \n",
       "45208  cellular   17   nov      1127         5    184         3  success  yes  \n",
       "\n",
       "[5289 rows x 17 columns]"
      ],
      "text/html": "<div>\n<style scoped>\n    .dataframe tbody tr th:only-of-type {\n        vertical-align: middle;\n    }\n\n    .dataframe tbody tr th {\n        vertical-align: top;\n    }\n\n    .dataframe thead th {\n        text-align: right;\n    }\n</style>\n<table border=\"1\" class=\"dataframe\">\n  <thead>\n    <tr style=\"text-align: right;\">\n      <th></th>\n      <th>age</th>\n      <th>job</th>\n      <th>marital</th>\n      <th>education</th>\n      <th>default</th>\n      <th>balance</th>\n      <th>housing</th>\n      <th>loan</th>\n      <th>contact</th>\n      <th>day</th>\n      <th>month</th>\n      <th>duration</th>\n      <th>campaign</th>\n      <th>pdays</th>\n      <th>previous</th>\n      <th>poutcome</th>\n      <th>y</th>\n    </tr>\n  </thead>\n  <tbody>\n    <tr>\n      <th>83</th>\n      <td>59</td>\n      <td>admin.</td>\n      <td>married</td>\n      <td>secondary</td>\n      <td>no</td>\n      <td>2343</td>\n      <td>yes</td>\n      <td>no</td>\n      <td>unknown</td>\n      <td>5</td>\n      <td>may</td>\n      <td>1042</td>\n      <td>1</td>\n      <td>-1</td>\n      <td>0</td>\n      <td>unknown</td>\n      <td>yes</td>\n    </tr>\n    <tr>\n      <th>86</th>\n      <td>56</td>\n      <td>admin.</td>\n      <td>married</td>\n      <td>secondary</td>\n      <td>no</td>\n      <td>45</td>\n      <td>no</td>\n      <td>no</td>\n      <td>unknown</td>\n      <td>5</td>\n      <td>may</td>\n      <td>1467</td>\n      <td>1</td>\n      <td>-1</td>\n      <td>0</td>\n      <td>unknown</td>\n      <td>yes</td>\n    </tr>\n    <tr>\n      <th>87</th>\n      <td>41</td>\n      <td>technician</td>\n      <td>married</td>\n      <td>secondary</td>\n      <td>no</td>\n      <td>1270</td>\n      <td>yes</td>\n      <td>no</td>\n      <td>unknown</td>\n      <td>5</td>\n      <td>may</td>\n      <td>1389</td>\n      <td>1</td>\n      <td>-1</td>\n      <td>0</td>\n      <td>unknown</td>\n      <td>yes</td>\n    </tr>\n    <tr>\n      <th>129</th>\n      <td>55</td>\n      <td>services</td>\n      <td>married</td>\n      <td>secondary</td>\n      <td>no</td>\n      <td>2476</td>\n      <td>yes</td>\n      <td>no</td>\n      <td>unknown</td>\n      <td>5</td>\n      <td>may</td>\n      <td>579</td>\n      <td>1</td>\n      <td>-1</td>\n      <td>0</td>\n      <td>unknown</td>\n      <td>yes</td>\n    </tr>\n    <tr>\n      <th>168</th>\n      <td>54</td>\n      <td>admin.</td>\n      <td>married</td>\n      <td>tertiary</td>\n      <td>no</td>\n      <td>184</td>\n      <td>no</td>\n      <td>no</td>\n      <td>unknown</td>\n      <td>5</td>\n      <td>may</td>\n      <td>673</td>\n      <td>2</td>\n      <td>-1</td>\n      <td>0</td>\n      <td>unknown</td>\n      <td>yes</td>\n    </tr>\n    <tr>\n      <th>...</th>\n      <td>...</td>\n      <td>...</td>\n      <td>...</td>\n      <td>...</td>\n      <td>...</td>\n      <td>...</td>\n      <td>...</td>\n      <td>...</td>\n      <td>...</td>\n      <td>...</td>\n      <td>...</td>\n      <td>...</td>\n      <td>...</td>\n      <td>...</td>\n      <td>...</td>\n      <td>...</td>\n      <td>...</td>\n    </tr>\n    <tr>\n      <th>45204</th>\n      <td>73</td>\n      <td>retired</td>\n      <td>married</td>\n      <td>secondary</td>\n      <td>no</td>\n      <td>2850</td>\n      <td>no</td>\n      <td>no</td>\n      <td>cellular</td>\n      <td>17</td>\n      <td>nov</td>\n      <td>300</td>\n      <td>1</td>\n      <td>40</td>\n      <td>8</td>\n      <td>failure</td>\n      <td>yes</td>\n    </tr>\n    <tr>\n      <th>45205</th>\n      <td>25</td>\n      <td>technician</td>\n      <td>single</td>\n      <td>secondary</td>\n      <td>no</td>\n      <td>505</td>\n      <td>no</td>\n      <td>yes</td>\n      <td>cellular</td>\n      <td>17</td>\n      <td>nov</td>\n      <td>386</td>\n      <td>2</td>\n      <td>-1</td>\n      <td>0</td>\n      <td>unknown</td>\n      <td>yes</td>\n    </tr>\n    <tr>\n      <th>45206</th>\n      <td>51</td>\n      <td>technician</td>\n      <td>married</td>\n      <td>tertiary</td>\n      <td>no</td>\n      <td>825</td>\n      <td>no</td>\n      <td>no</td>\n      <td>cellular</td>\n      <td>17</td>\n      <td>nov</td>\n      <td>977</td>\n      <td>3</td>\n      <td>-1</td>\n      <td>0</td>\n      <td>unknown</td>\n      <td>yes</td>\n    </tr>\n    <tr>\n      <th>45207</th>\n      <td>71</td>\n      <td>retired</td>\n      <td>divorced</td>\n      <td>primary</td>\n      <td>no</td>\n      <td>1729</td>\n      <td>no</td>\n      <td>no</td>\n      <td>cellular</td>\n      <td>17</td>\n      <td>nov</td>\n      <td>456</td>\n      <td>2</td>\n      <td>-1</td>\n      <td>0</td>\n      <td>unknown</td>\n      <td>yes</td>\n    </tr>\n    <tr>\n      <th>45208</th>\n      <td>72</td>\n      <td>retired</td>\n      <td>married</td>\n      <td>secondary</td>\n      <td>no</td>\n      <td>5715</td>\n      <td>no</td>\n      <td>no</td>\n      <td>cellular</td>\n      <td>17</td>\n      <td>nov</td>\n      <td>1127</td>\n      <td>5</td>\n      <td>184</td>\n      <td>3</td>\n      <td>success</td>\n      <td>yes</td>\n    </tr>\n  </tbody>\n</table>\n<p>5289 rows × 17 columns</p>\n</div>"
     },
     "metadata": {},
     "execution_count": 8
    }
   ],
   "source": [
    "data_yes"
   ]
  },
  {
   "cell_type": "code",
   "execution_count": 15,
   "metadata": {},
   "outputs": [
    {
     "output_type": "execute_result",
     "data": {
      "text/plain": [
       "management       1301\n",
       "technician        840\n",
       "blue-collar       708\n",
       "admin.            631\n",
       "retired           516\n",
       "services          369\n",
       "student           269\n",
       "unemployed        202\n",
       "self-employed     187\n",
       "entrepreneur      123\n",
       "housemaid         109\n",
       "unknown            34\n",
       "Name: job, dtype: int64"
      ]
     },
     "metadata": {},
     "execution_count": 15
    }
   ],
   "source": [
    "data_yes['job'].value_counts()"
   ]
  },
  {
   "cell_type": "code",
   "execution_count": 9,
   "metadata": {},
   "outputs": [
    {
     "output_type": "stream",
     "name": "stdout",
     "text": [
      "32\nmanagement\nmarried\nsecondary\nmay\n30\n0\nno\n1\n0\nno\nno\n"
     ]
    }
   ],
   "source": [
    "print(data_yes['age'].value_counts().idxmax())\n",
    "print(data_yes['job'].value_counts().idxmax())\n",
    "print(data_yes['marital'].value_counts().idxmax())\n",
    "print(data_yes['education'].value_counts().idxmax())\n",
    "print(data_yes['month'].value_counts().idxmax())\n",
    "print(data_yes['day'].value_counts().idxmax())\n",
    "print(data_yes['balance'].value_counts().idxmax())\n",
    "print(data_yes['housing'].value_counts().idxmax())\n",
    "print(data_yes['campaign'].value_counts().idxmax())\n",
    "print(data_yes['previous'].value_counts().idxmax())\n",
    "print(data_yes['default'].value_counts().idxmax())\n",
    "print(data_yes['loan'].value_counts().idxmax())"
   ]
  },
  {
   "cell_type": "code",
   "execution_count": 10,
   "metadata": {},
   "outputs": [],
   "source": [
    "data_yess ={'Idade': [data_yes['age'].value_counts().idxmax()],\n",
    "'Profissão': [data_yes['job'].value_counts().idxmax()],\n",
    "'Estado civil': [data_yes['marital'].value_counts().idxmax()],\n",
    "'Educação': [data_yes['education'].value_counts().idxmax()],\n",
    "'Mês': [data_yes['month'].value_counts().idxmax()],\n",
    "'Dia': [data_yes['day'].value_counts().idxmax()],\n",
    "'Balanço': [data_yes['balance'].value_counts().idxmax()],\n",
    "'Crédito habitação': [data_yes['housing'].value_counts().idxmax()],\n",
    "'Campanha': [data_yes['campaign'].value_counts().idxmax()],\n",
    "'Previous': [data_yes['previous'].value_counts().idxmax()],\n",
    "'Default': [data_yes['default'].value_counts().idxmax()],\n",
    "'Empréstmo': [data_yes['loan'].value_counts().idxmax()],\n",
    "'Resultado': [data_yes['y'].value_counts().idxmax()]\n",
    "}\n",
    "data_yess = pd.DataFrame(data_yess)\n",
    "data_yess\n",
    "data_yess.to_excel(\"data_yes.xlsx\", index=False)  "
   ]
  },
  {
   "cell_type": "code",
   "execution_count": 11,
   "metadata": {},
   "outputs": [
    {
     "output_type": "execute_result",
     "data": {
      "text/plain": [
       "   Idade   Profissão Estado civil   Educação  Mês  Dia  Balanço  \\\n",
       "0     32  management      married  secondary  may   30        0   \n",
       "\n",
       "  Crédito habitação  Campanha  Previous Default Empréstmo Resultado  \n",
       "0                no         1         0      no        no       yes  "
      ],
      "text/html": "<div>\n<style scoped>\n    .dataframe tbody tr th:only-of-type {\n        vertical-align: middle;\n    }\n\n    .dataframe tbody tr th {\n        vertical-align: top;\n    }\n\n    .dataframe thead th {\n        text-align: right;\n    }\n</style>\n<table border=\"1\" class=\"dataframe\">\n  <thead>\n    <tr style=\"text-align: right;\">\n      <th></th>\n      <th>Idade</th>\n      <th>Profissão</th>\n      <th>Estado civil</th>\n      <th>Educação</th>\n      <th>Mês</th>\n      <th>Dia</th>\n      <th>Balanço</th>\n      <th>Crédito habitação</th>\n      <th>Campanha</th>\n      <th>Previous</th>\n      <th>Default</th>\n      <th>Empréstmo</th>\n      <th>Resultado</th>\n    </tr>\n  </thead>\n  <tbody>\n    <tr>\n      <th>0</th>\n      <td>32</td>\n      <td>management</td>\n      <td>married</td>\n      <td>secondary</td>\n      <td>may</td>\n      <td>30</td>\n      <td>0</td>\n      <td>no</td>\n      <td>1</td>\n      <td>0</td>\n      <td>no</td>\n      <td>no</td>\n      <td>yes</td>\n    </tr>\n  </tbody>\n</table>\n</div>"
     },
     "metadata": {},
     "execution_count": 11
    }
   ],
   "source": [
    "data_yess"
   ]
  },
  {
   "cell_type": "code",
   "execution_count": 12,
   "metadata": {},
   "outputs": [
    {
     "output_type": "execute_result",
     "data": {
      "text/plain": [
       "       age         job   marital  education default  balance housing loan  \\\n",
       "83      59      admin.   married  secondary      no     2343     yes   no   \n",
       "86      56      admin.   married  secondary      no       45      no   no   \n",
       "87      41  technician   married  secondary      no     1270     yes   no   \n",
       "129     55    services   married  secondary      no     2476     yes   no   \n",
       "168     54      admin.   married   tertiary      no      184      no   no   \n",
       "...    ...         ...       ...        ...     ...      ...     ...  ...   \n",
       "45204   73     retired   married  secondary      no     2850      no   no   \n",
       "45205   25  technician    single  secondary      no      505      no  yes   \n",
       "45206   51  technician   married   tertiary      no      825      no   no   \n",
       "45207   71     retired  divorced    primary      no     1729      no   no   \n",
       "45208   72     retired   married  secondary      no     5715      no   no   \n",
       "\n",
       "        contact  day month  duration  campaign  pdays  previous poutcome    y  \n",
       "83      unknown    5   may      1042         1     -1         0  unknown  yes  \n",
       "86      unknown    5   may      1467         1     -1         0  unknown  yes  \n",
       "87      unknown    5   may      1389         1     -1         0  unknown  yes  \n",
       "129     unknown    5   may       579         1     -1         0  unknown  yes  \n",
       "168     unknown    5   may       673         2     -1         0  unknown  yes  \n",
       "...         ...  ...   ...       ...       ...    ...       ...      ...  ...  \n",
       "45204  cellular   17   nov       300         1     40         8  failure  yes  \n",
       "45205  cellular   17   nov       386         2     -1         0  unknown  yes  \n",
       "45206  cellular   17   nov       977         3     -1         0  unknown  yes  \n",
       "45207  cellular   17   nov       456         2     -1         0  unknown  yes  \n",
       "45208  cellular   17   nov      1127         5    184         3  success  yes  \n",
       "\n",
       "[5289 rows x 17 columns]"
      ],
      "text/html": "<div>\n<style scoped>\n    .dataframe tbody tr th:only-of-type {\n        vertical-align: middle;\n    }\n\n    .dataframe tbody tr th {\n        vertical-align: top;\n    }\n\n    .dataframe thead th {\n        text-align: right;\n    }\n</style>\n<table border=\"1\" class=\"dataframe\">\n  <thead>\n    <tr style=\"text-align: right;\">\n      <th></th>\n      <th>age</th>\n      <th>job</th>\n      <th>marital</th>\n      <th>education</th>\n      <th>default</th>\n      <th>balance</th>\n      <th>housing</th>\n      <th>loan</th>\n      <th>contact</th>\n      <th>day</th>\n      <th>month</th>\n      <th>duration</th>\n      <th>campaign</th>\n      <th>pdays</th>\n      <th>previous</th>\n      <th>poutcome</th>\n      <th>y</th>\n    </tr>\n  </thead>\n  <tbody>\n    <tr>\n      <th>83</th>\n      <td>59</td>\n      <td>admin.</td>\n      <td>married</td>\n      <td>secondary</td>\n      <td>no</td>\n      <td>2343</td>\n      <td>yes</td>\n      <td>no</td>\n      <td>unknown</td>\n      <td>5</td>\n      <td>may</td>\n      <td>1042</td>\n      <td>1</td>\n      <td>-1</td>\n      <td>0</td>\n      <td>unknown</td>\n      <td>yes</td>\n    </tr>\n    <tr>\n      <th>86</th>\n      <td>56</td>\n      <td>admin.</td>\n      <td>married</td>\n      <td>secondary</td>\n      <td>no</td>\n      <td>45</td>\n      <td>no</td>\n      <td>no</td>\n      <td>unknown</td>\n      <td>5</td>\n      <td>may</td>\n      <td>1467</td>\n      <td>1</td>\n      <td>-1</td>\n      <td>0</td>\n      <td>unknown</td>\n      <td>yes</td>\n    </tr>\n    <tr>\n      <th>87</th>\n      <td>41</td>\n      <td>technician</td>\n      <td>married</td>\n      <td>secondary</td>\n      <td>no</td>\n      <td>1270</td>\n      <td>yes</td>\n      <td>no</td>\n      <td>unknown</td>\n      <td>5</td>\n      <td>may</td>\n      <td>1389</td>\n      <td>1</td>\n      <td>-1</td>\n      <td>0</td>\n      <td>unknown</td>\n      <td>yes</td>\n    </tr>\n    <tr>\n      <th>129</th>\n      <td>55</td>\n      <td>services</td>\n      <td>married</td>\n      <td>secondary</td>\n      <td>no</td>\n      <td>2476</td>\n      <td>yes</td>\n      <td>no</td>\n      <td>unknown</td>\n      <td>5</td>\n      <td>may</td>\n      <td>579</td>\n      <td>1</td>\n      <td>-1</td>\n      <td>0</td>\n      <td>unknown</td>\n      <td>yes</td>\n    </tr>\n    <tr>\n      <th>168</th>\n      <td>54</td>\n      <td>admin.</td>\n      <td>married</td>\n      <td>tertiary</td>\n      <td>no</td>\n      <td>184</td>\n      <td>no</td>\n      <td>no</td>\n      <td>unknown</td>\n      <td>5</td>\n      <td>may</td>\n      <td>673</td>\n      <td>2</td>\n      <td>-1</td>\n      <td>0</td>\n      <td>unknown</td>\n      <td>yes</td>\n    </tr>\n    <tr>\n      <th>...</th>\n      <td>...</td>\n      <td>...</td>\n      <td>...</td>\n      <td>...</td>\n      <td>...</td>\n      <td>...</td>\n      <td>...</td>\n      <td>...</td>\n      <td>...</td>\n      <td>...</td>\n      <td>...</td>\n      <td>...</td>\n      <td>...</td>\n      <td>...</td>\n      <td>...</td>\n      <td>...</td>\n      <td>...</td>\n    </tr>\n    <tr>\n      <th>45204</th>\n      <td>73</td>\n      <td>retired</td>\n      <td>married</td>\n      <td>secondary</td>\n      <td>no</td>\n      <td>2850</td>\n      <td>no</td>\n      <td>no</td>\n      <td>cellular</td>\n      <td>17</td>\n      <td>nov</td>\n      <td>300</td>\n      <td>1</td>\n      <td>40</td>\n      <td>8</td>\n      <td>failure</td>\n      <td>yes</td>\n    </tr>\n    <tr>\n      <th>45205</th>\n      <td>25</td>\n      <td>technician</td>\n      <td>single</td>\n      <td>secondary</td>\n      <td>no</td>\n      <td>505</td>\n      <td>no</td>\n      <td>yes</td>\n      <td>cellular</td>\n      <td>17</td>\n      <td>nov</td>\n      <td>386</td>\n      <td>2</td>\n      <td>-1</td>\n      <td>0</td>\n      <td>unknown</td>\n      <td>yes</td>\n    </tr>\n    <tr>\n      <th>45206</th>\n      <td>51</td>\n      <td>technician</td>\n      <td>married</td>\n      <td>tertiary</td>\n      <td>no</td>\n      <td>825</td>\n      <td>no</td>\n      <td>no</td>\n      <td>cellular</td>\n      <td>17</td>\n      <td>nov</td>\n      <td>977</td>\n      <td>3</td>\n      <td>-1</td>\n      <td>0</td>\n      <td>unknown</td>\n      <td>yes</td>\n    </tr>\n    <tr>\n      <th>45207</th>\n      <td>71</td>\n      <td>retired</td>\n      <td>divorced</td>\n      <td>primary</td>\n      <td>no</td>\n      <td>1729</td>\n      <td>no</td>\n      <td>no</td>\n      <td>cellular</td>\n      <td>17</td>\n      <td>nov</td>\n      <td>456</td>\n      <td>2</td>\n      <td>-1</td>\n      <td>0</td>\n      <td>unknown</td>\n      <td>yes</td>\n    </tr>\n    <tr>\n      <th>45208</th>\n      <td>72</td>\n      <td>retired</td>\n      <td>married</td>\n      <td>secondary</td>\n      <td>no</td>\n      <td>5715</td>\n      <td>no</td>\n      <td>no</td>\n      <td>cellular</td>\n      <td>17</td>\n      <td>nov</td>\n      <td>1127</td>\n      <td>5</td>\n      <td>184</td>\n      <td>3</td>\n      <td>success</td>\n      <td>yes</td>\n    </tr>\n  </tbody>\n</table>\n<p>5289 rows × 17 columns</p>\n</div>"
     },
     "metadata": {},
     "execution_count": 12
    }
   ],
   "source": [
    "data_yes"
   ]
  },
  {
   "cell_type": "code",
   "execution_count": 13,
   "metadata": {},
   "outputs": [],
   "source": [
    "data_yes = pd.DataFrame(data_yes)\n",
    "data_yes\n",
    "data_yes.to_excel(\"todos_os_clientes.xlsx\", index=False)  "
   ]
  },
  {
   "cell_type": "code",
   "execution_count": null,
   "metadata": {},
   "outputs": [],
   "source": [
    "subscrição ={'Idade': 'Mais de 60 anos',\n",
    "'Profissão': 'Estudante',\n",
    "'Estado civil': 'Solteiro',\n",
    "'Educação': 'Terciária',\n",
    "'Mês': 'Março',\n",
    "'Dia': 'Primeira Quinzena',\n",
    "'Balanço': 'Entre 2500 e 500',\n",
    "'Crédito habitação': 'Não',\n",
    "'Campanha': 'Uma vez',\n",
    "'Previous': 'Mais do que uma vez',\n",
    "'Default': 'Não possuí',\n",
    "'Empréstmo': 'Não'\n",
    "}\n",
    "subscrição"
   ]
  },
  {
   "cell_type": "code",
   "execution_count": 21,
   "metadata": {},
   "outputs": [],
   "source": [
    "sub = pd.DataFrame({'Idade': 'Mais de 60 anos',\n",
    "'Profissão': 'Estudante',\n",
    "'Estado civil': 'Solteiro',\n",
    "'Educação': 'Terciária',\n",
    "'Mês': 'Março',\n",
    "'Dia': 'Primeira Quinzena',\n",
    "'Balanço': 'Entre 2500 e 500',\n",
    "'Crédito habitação': 'Não',\n",
    "'Campanha': 'Uma vez',\n",
    "'Previous': 'Mais do que uma vez',\n",
    "'Default': 'Não possuí',\n",
    "'Empréstmo': 'Não'\n",
    "}, index=[0])\n",
    "sub\n",
    "sub.to_excel(\"subscrição.xlsx\", index=False) "
   ]
  },
  {
   "cell_type": "code",
   "execution_count": null,
   "metadata": {},
   "outputs": [],
   "source": []
  }
 ]
}