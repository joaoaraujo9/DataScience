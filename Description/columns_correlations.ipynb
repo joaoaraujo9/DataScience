{
 "metadata": {
  "language_info": {
   "codemirror_mode": {
    "name": "ipython",
    "version": 3
   },
   "file_extension": ".py",
   "mimetype": "text/x-python",
   "name": "python",
   "nbconvert_exporter": "python",
   "pygments_lexer": "ipython3",
   "version": "3.8.3-final"
  },
  "orig_nbformat": 2,
  "kernelspec": {
   "name": "python3",
   "display_name": "Python 3"
  }
 },
 "nbformat": 4,
 "nbformat_minor": 2,
 "cells": [
  {
   "cell_type": "code",
   "execution_count": 1,
   "metadata": {},
   "outputs": [],
   "source": [
    "import pandas as pd \n",
    "import seaborn as sns\n",
    "import numpy as np\n",
    "import matplotlib.pyplot as plt"
   ]
  },
  {
   "cell_type": "code",
   "execution_count": 2,
   "metadata": {},
   "outputs": [],
   "source": [
    "data = pd.read_csv('C:/Users/joao_/Desktop/4 ANO JOAO/SINO/VS CODE PROJETO/Datasets/bank-full-transformed.csv')"
   ]
  },
  {
   "cell_type": "code",
   "execution_count": 3,
   "metadata": {},
   "outputs": [
    {
     "output_type": "execute_result",
     "data": {
      "text/plain": [
       "   age           job  marital  education  default  balance  housing  loan  \\\n",
       "0   50    management  married   tertiary        0        0        1     0   \n",
       "1   40    technician   single  secondary        0        0        1     0   \n",
       "2   30  entrepreneur  married  secondary        0        0        1     1   \n",
       "3   40   blue-collar  married      other        0        0        1     0   \n",
       "4   30         other   single      other        0        0        0     0   \n",
       "\n",
       "   day  month  campaign  pdays  previous  y  \n",
       "0    0      5         1      0         0  0  \n",
       "1    0      5         1      0         0  0  \n",
       "2    0      5         1      0         0  0  \n",
       "3    0      5         1      0         0  0  \n",
       "4    0      5         1      0         0  0  "
      ],
      "text/html": "<div>\n<style scoped>\n    .dataframe tbody tr th:only-of-type {\n        vertical-align: middle;\n    }\n\n    .dataframe tbody tr th {\n        vertical-align: top;\n    }\n\n    .dataframe thead th {\n        text-align: right;\n    }\n</style>\n<table border=\"1\" class=\"dataframe\">\n  <thead>\n    <tr style=\"text-align: right;\">\n      <th></th>\n      <th>age</th>\n      <th>job</th>\n      <th>marital</th>\n      <th>education</th>\n      <th>default</th>\n      <th>balance</th>\n      <th>housing</th>\n      <th>loan</th>\n      <th>day</th>\n      <th>month</th>\n      <th>campaign</th>\n      <th>pdays</th>\n      <th>previous</th>\n      <th>y</th>\n    </tr>\n  </thead>\n  <tbody>\n    <tr>\n      <th>0</th>\n      <td>50</td>\n      <td>management</td>\n      <td>married</td>\n      <td>tertiary</td>\n      <td>0</td>\n      <td>0</td>\n      <td>1</td>\n      <td>0</td>\n      <td>0</td>\n      <td>5</td>\n      <td>1</td>\n      <td>0</td>\n      <td>0</td>\n      <td>0</td>\n    </tr>\n    <tr>\n      <th>1</th>\n      <td>40</td>\n      <td>technician</td>\n      <td>single</td>\n      <td>secondary</td>\n      <td>0</td>\n      <td>0</td>\n      <td>1</td>\n      <td>0</td>\n      <td>0</td>\n      <td>5</td>\n      <td>1</td>\n      <td>0</td>\n      <td>0</td>\n      <td>0</td>\n    </tr>\n    <tr>\n      <th>2</th>\n      <td>30</td>\n      <td>entrepreneur</td>\n      <td>married</td>\n      <td>secondary</td>\n      <td>0</td>\n      <td>0</td>\n      <td>1</td>\n      <td>1</td>\n      <td>0</td>\n      <td>5</td>\n      <td>1</td>\n      <td>0</td>\n      <td>0</td>\n      <td>0</td>\n    </tr>\n    <tr>\n      <th>3</th>\n      <td>40</td>\n      <td>blue-collar</td>\n      <td>married</td>\n      <td>other</td>\n      <td>0</td>\n      <td>0</td>\n      <td>1</td>\n      <td>0</td>\n      <td>0</td>\n      <td>5</td>\n      <td>1</td>\n      <td>0</td>\n      <td>0</td>\n      <td>0</td>\n    </tr>\n    <tr>\n      <th>4</th>\n      <td>30</td>\n      <td>other</td>\n      <td>single</td>\n      <td>other</td>\n      <td>0</td>\n      <td>0</td>\n      <td>0</td>\n      <td>0</td>\n      <td>0</td>\n      <td>5</td>\n      <td>1</td>\n      <td>0</td>\n      <td>0</td>\n      <td>0</td>\n    </tr>\n  </tbody>\n</table>\n</div>"
     },
     "metadata": {},
     "execution_count": 3
    }
   ],
   "source": [
    "data.head()"
   ]
  },
  {
   "cell_type": "code",
   "execution_count": 4,
   "metadata": {},
   "outputs": [
    {
     "output_type": "execute_result",
     "data": {
      "text/plain": [
       "       age           job  marital  education  default  balance  housing  loan  \\\n",
       "24041   30        admin.  married   tertiary        0        0        0     0   \n",
       "24043   40        admin.   single  secondary        0       -1        1     1   \n",
       "24045   30      services  married  secondary        0        1        1     0   \n",
       "24053   30    management  married   tertiary        0        0        1     0   \n",
       "24058   30    management  married   tertiary        0        0        1     0   \n",
       "...    ...           ...      ...        ...      ...      ...      ...   ...   \n",
       "45178   30   blue-collar   single  secondary        0        0        1     0   \n",
       "45180   50    management  married   tertiary        0        0        0     0   \n",
       "45183   60       retired  married  secondary        0        1        0     0   \n",
       "45187   60       retired  married  secondary        0        2        0     0   \n",
       "45189   30  entrepreneur  married  secondary        0        1        0     0   \n",
       "\n",
       "       day  month  campaign  pdays  previous  y  \n",
       "24041    1     10         1      1         2  0  \n",
       "24043    1     10         1      1         1  1  \n",
       "24045    1     10         1      1         2  1  \n",
       "24053    1     10         1      1         2  0  \n",
       "24058    1     10         1      1         2  1  \n",
       "...    ...    ...       ...    ...       ... ..  \n",
       "45178    1     11         2      1         2  0  \n",
       "45180    1     11         1      1         2  1  \n",
       "45183    1     11         1      1         2  1  \n",
       "45187    1     11         2      1         2  1  \n",
       "45189    1     11         2      1         2  0  \n",
       "\n",
       "[8257 rows x 14 columns]"
      ],
      "text/html": "<div>\n<style scoped>\n    .dataframe tbody tr th:only-of-type {\n        vertical-align: middle;\n    }\n\n    .dataframe tbody tr th {\n        vertical-align: top;\n    }\n\n    .dataframe thead th {\n        text-align: right;\n    }\n</style>\n<table border=\"1\" class=\"dataframe\">\n  <thead>\n    <tr style=\"text-align: right;\">\n      <th></th>\n      <th>age</th>\n      <th>job</th>\n      <th>marital</th>\n      <th>education</th>\n      <th>default</th>\n      <th>balance</th>\n      <th>housing</th>\n      <th>loan</th>\n      <th>day</th>\n      <th>month</th>\n      <th>campaign</th>\n      <th>pdays</th>\n      <th>previous</th>\n      <th>y</th>\n    </tr>\n  </thead>\n  <tbody>\n    <tr>\n      <th>24041</th>\n      <td>30</td>\n      <td>admin.</td>\n      <td>married</td>\n      <td>tertiary</td>\n      <td>0</td>\n      <td>0</td>\n      <td>0</td>\n      <td>0</td>\n      <td>1</td>\n      <td>10</td>\n      <td>1</td>\n      <td>1</td>\n      <td>2</td>\n      <td>0</td>\n    </tr>\n    <tr>\n      <th>24043</th>\n      <td>40</td>\n      <td>admin.</td>\n      <td>single</td>\n      <td>secondary</td>\n      <td>0</td>\n      <td>-1</td>\n      <td>1</td>\n      <td>1</td>\n      <td>1</td>\n      <td>10</td>\n      <td>1</td>\n      <td>1</td>\n      <td>1</td>\n      <td>1</td>\n    </tr>\n    <tr>\n      <th>24045</th>\n      <td>30</td>\n      <td>services</td>\n      <td>married</td>\n      <td>secondary</td>\n      <td>0</td>\n      <td>1</td>\n      <td>1</td>\n      <td>0</td>\n      <td>1</td>\n      <td>10</td>\n      <td>1</td>\n      <td>1</td>\n      <td>2</td>\n      <td>1</td>\n    </tr>\n    <tr>\n      <th>24053</th>\n      <td>30</td>\n      <td>management</td>\n      <td>married</td>\n      <td>tertiary</td>\n      <td>0</td>\n      <td>0</td>\n      <td>1</td>\n      <td>0</td>\n      <td>1</td>\n      <td>10</td>\n      <td>1</td>\n      <td>1</td>\n      <td>2</td>\n      <td>0</td>\n    </tr>\n    <tr>\n      <th>24058</th>\n      <td>30</td>\n      <td>management</td>\n      <td>married</td>\n      <td>tertiary</td>\n      <td>0</td>\n      <td>0</td>\n      <td>1</td>\n      <td>0</td>\n      <td>1</td>\n      <td>10</td>\n      <td>1</td>\n      <td>1</td>\n      <td>2</td>\n      <td>1</td>\n    </tr>\n    <tr>\n      <th>...</th>\n      <td>...</td>\n      <td>...</td>\n      <td>...</td>\n      <td>...</td>\n      <td>...</td>\n      <td>...</td>\n      <td>...</td>\n      <td>...</td>\n      <td>...</td>\n      <td>...</td>\n      <td>...</td>\n      <td>...</td>\n      <td>...</td>\n      <td>...</td>\n    </tr>\n    <tr>\n      <th>45178</th>\n      <td>30</td>\n      <td>blue-collar</td>\n      <td>single</td>\n      <td>secondary</td>\n      <td>0</td>\n      <td>0</td>\n      <td>1</td>\n      <td>0</td>\n      <td>1</td>\n      <td>11</td>\n      <td>2</td>\n      <td>1</td>\n      <td>2</td>\n      <td>0</td>\n    </tr>\n    <tr>\n      <th>45180</th>\n      <td>50</td>\n      <td>management</td>\n      <td>married</td>\n      <td>tertiary</td>\n      <td>0</td>\n      <td>0</td>\n      <td>0</td>\n      <td>0</td>\n      <td>1</td>\n      <td>11</td>\n      <td>1</td>\n      <td>1</td>\n      <td>2</td>\n      <td>1</td>\n    </tr>\n    <tr>\n      <th>45183</th>\n      <td>60</td>\n      <td>retired</td>\n      <td>married</td>\n      <td>secondary</td>\n      <td>0</td>\n      <td>1</td>\n      <td>0</td>\n      <td>0</td>\n      <td>1</td>\n      <td>11</td>\n      <td>1</td>\n      <td>1</td>\n      <td>2</td>\n      <td>1</td>\n    </tr>\n    <tr>\n      <th>45187</th>\n      <td>60</td>\n      <td>retired</td>\n      <td>married</td>\n      <td>secondary</td>\n      <td>0</td>\n      <td>2</td>\n      <td>0</td>\n      <td>0</td>\n      <td>1</td>\n      <td>11</td>\n      <td>2</td>\n      <td>1</td>\n      <td>2</td>\n      <td>1</td>\n    </tr>\n    <tr>\n      <th>45189</th>\n      <td>30</td>\n      <td>entrepreneur</td>\n      <td>married</td>\n      <td>secondary</td>\n      <td>0</td>\n      <td>1</td>\n      <td>0</td>\n      <td>0</td>\n      <td>1</td>\n      <td>11</td>\n      <td>2</td>\n      <td>1</td>\n      <td>2</td>\n      <td>0</td>\n    </tr>\n  </tbody>\n</table>\n<p>8257 rows × 14 columns</p>\n</div>"
     },
     "metadata": {},
     "execution_count": 4
    }
   ],
   "source": [
    "data.loc[(data['pdays'] == 1)]"
   ]
  },
  {
   "cell_type": "code",
   "execution_count": 5,
   "metadata": {},
   "outputs": [
    {
     "output_type": "execute_result",
     "data": {
      "text/plain": [
       "       age            job   marital  education  default  balance  housing  \\\n",
       "3676    30       services    single      other        0        0        1   \n",
       "3680    30     technician   married   tertiary        0        0        1   \n",
       "3700    30     management   married   tertiary        0        0        1   \n",
       "3701    40         admin.  divorced  secondary        0        0        1   \n",
       "3707    30  self-employed    single   tertiary        0        0        1   \n",
       "...    ...            ...       ...        ...      ...      ...      ...   \n",
       "45183   60        retired   married  secondary        0        1        0   \n",
       "45184   20     technician    single  secondary        0        0        0   \n",
       "45185   50     technician   married   tertiary        0        0        0   \n",
       "45186   60        retired  divorced    primary        0        0        0   \n",
       "45187   60        retired   married  secondary        0        2        0   \n",
       "\n",
       "       loan  day  month  campaign  pdays  previous  y  \n",
       "3676      0    1      5         1      0         0  1  \n",
       "3680      1    1      5         1      0         0  1  \n",
       "3700      0    1      5         1      0         0  1  \n",
       "3701      0    1      5         1      0         0  1  \n",
       "3707      0    1      5         1      0         0  1  \n",
       "...     ...  ...    ...       ...    ...       ... ..  \n",
       "45183     0    1     11         1      1         2  1  \n",
       "45184     1    1     11         2      0         0  1  \n",
       "45185     0    1     11         2      0         0  1  \n",
       "45186     0    1     11         2      0         0  1  \n",
       "45187     0    1     11         2      1         2  1  \n",
       "\n",
       "[2441 rows x 14 columns]"
      ],
      "text/html": "<div>\n<style scoped>\n    .dataframe tbody tr th:only-of-type {\n        vertical-align: middle;\n    }\n\n    .dataframe tbody tr th {\n        vertical-align: top;\n    }\n\n    .dataframe thead th {\n        text-align: right;\n    }\n</style>\n<table border=\"1\" class=\"dataframe\">\n  <thead>\n    <tr style=\"text-align: right;\">\n      <th></th>\n      <th>age</th>\n      <th>job</th>\n      <th>marital</th>\n      <th>education</th>\n      <th>default</th>\n      <th>balance</th>\n      <th>housing</th>\n      <th>loan</th>\n      <th>day</th>\n      <th>month</th>\n      <th>campaign</th>\n      <th>pdays</th>\n      <th>previous</th>\n      <th>y</th>\n    </tr>\n  </thead>\n  <tbody>\n    <tr>\n      <th>3676</th>\n      <td>30</td>\n      <td>services</td>\n      <td>single</td>\n      <td>other</td>\n      <td>0</td>\n      <td>0</td>\n      <td>1</td>\n      <td>0</td>\n      <td>1</td>\n      <td>5</td>\n      <td>1</td>\n      <td>0</td>\n      <td>0</td>\n      <td>1</td>\n    </tr>\n    <tr>\n      <th>3680</th>\n      <td>30</td>\n      <td>technician</td>\n      <td>married</td>\n      <td>tertiary</td>\n      <td>0</td>\n      <td>0</td>\n      <td>1</td>\n      <td>1</td>\n      <td>1</td>\n      <td>5</td>\n      <td>1</td>\n      <td>0</td>\n      <td>0</td>\n      <td>1</td>\n    </tr>\n    <tr>\n      <th>3700</th>\n      <td>30</td>\n      <td>management</td>\n      <td>married</td>\n      <td>tertiary</td>\n      <td>0</td>\n      <td>0</td>\n      <td>1</td>\n      <td>0</td>\n      <td>1</td>\n      <td>5</td>\n      <td>1</td>\n      <td>0</td>\n      <td>0</td>\n      <td>1</td>\n    </tr>\n    <tr>\n      <th>3701</th>\n      <td>40</td>\n      <td>admin.</td>\n      <td>divorced</td>\n      <td>secondary</td>\n      <td>0</td>\n      <td>0</td>\n      <td>1</td>\n      <td>0</td>\n      <td>1</td>\n      <td>5</td>\n      <td>1</td>\n      <td>0</td>\n      <td>0</td>\n      <td>1</td>\n    </tr>\n    <tr>\n      <th>3707</th>\n      <td>30</td>\n      <td>self-employed</td>\n      <td>single</td>\n      <td>tertiary</td>\n      <td>0</td>\n      <td>0</td>\n      <td>1</td>\n      <td>0</td>\n      <td>1</td>\n      <td>5</td>\n      <td>1</td>\n      <td>0</td>\n      <td>0</td>\n      <td>1</td>\n    </tr>\n    <tr>\n      <th>...</th>\n      <td>...</td>\n      <td>...</td>\n      <td>...</td>\n      <td>...</td>\n      <td>...</td>\n      <td>...</td>\n      <td>...</td>\n      <td>...</td>\n      <td>...</td>\n      <td>...</td>\n      <td>...</td>\n      <td>...</td>\n      <td>...</td>\n      <td>...</td>\n    </tr>\n    <tr>\n      <th>45183</th>\n      <td>60</td>\n      <td>retired</td>\n      <td>married</td>\n      <td>secondary</td>\n      <td>0</td>\n      <td>1</td>\n      <td>0</td>\n      <td>0</td>\n      <td>1</td>\n      <td>11</td>\n      <td>1</td>\n      <td>1</td>\n      <td>2</td>\n      <td>1</td>\n    </tr>\n    <tr>\n      <th>45184</th>\n      <td>20</td>\n      <td>technician</td>\n      <td>single</td>\n      <td>secondary</td>\n      <td>0</td>\n      <td>0</td>\n      <td>0</td>\n      <td>1</td>\n      <td>1</td>\n      <td>11</td>\n      <td>2</td>\n      <td>0</td>\n      <td>0</td>\n      <td>1</td>\n    </tr>\n    <tr>\n      <th>45185</th>\n      <td>50</td>\n      <td>technician</td>\n      <td>married</td>\n      <td>tertiary</td>\n      <td>0</td>\n      <td>0</td>\n      <td>0</td>\n      <td>0</td>\n      <td>1</td>\n      <td>11</td>\n      <td>2</td>\n      <td>0</td>\n      <td>0</td>\n      <td>1</td>\n    </tr>\n    <tr>\n      <th>45186</th>\n      <td>60</td>\n      <td>retired</td>\n      <td>divorced</td>\n      <td>primary</td>\n      <td>0</td>\n      <td>0</td>\n      <td>0</td>\n      <td>0</td>\n      <td>1</td>\n      <td>11</td>\n      <td>2</td>\n      <td>0</td>\n      <td>0</td>\n      <td>1</td>\n    </tr>\n    <tr>\n      <th>45187</th>\n      <td>60</td>\n      <td>retired</td>\n      <td>married</td>\n      <td>secondary</td>\n      <td>0</td>\n      <td>2</td>\n      <td>0</td>\n      <td>0</td>\n      <td>1</td>\n      <td>11</td>\n      <td>2</td>\n      <td>1</td>\n      <td>2</td>\n      <td>1</td>\n    </tr>\n  </tbody>\n</table>\n<p>2441 rows × 14 columns</p>\n</div>"
     },
     "metadata": {},
     "execution_count": 5
    }
   ],
   "source": [
    "data.loc[(data['day'] == 1) & (data['y'] == 1)]"
   ]
  },
  {
   "cell_type": "code",
   "execution_count": 6,
   "metadata": {},
   "outputs": [
    {
     "output_type": "execute_result",
     "data": {
      "text/plain": [
       "       age          job   marital  education  default  balance  housing  loan  \\\n",
       "31182   40     services   married  secondary        0        0        1     0   \n",
       "31187   30     services   married  secondary        0        0        1     0   \n",
       "31189   50   technician   married  secondary        0        0        1     1   \n",
       "31191   40  blue-collar   married    primary        0        1        0     0   \n",
       "31195   30   technician   married   tertiary        0        0        0     0   \n",
       "...    ...          ...       ...        ...      ...      ...      ...   ...   \n",
       "43362   30       admin.    single   tertiary        0        2        0     0   \n",
       "43363   40       admin.  divorced   tertiary        0        0        1     0   \n",
       "43364   60      retired  divorced    primary        0        0        0     0   \n",
       "43365   40   management   married   tertiary        0        0        0     0   \n",
       "43366   20      student    single  secondary        0        2        0     0   \n",
       "\n",
       "       day  month  campaign  pdays  previous  y  \n",
       "31182    0      3         2      0         0  1  \n",
       "31187    0      3         2      0         0  1  \n",
       "31189    0      3         1      0         0  1  \n",
       "31191    0      3         1      0         0  1  \n",
       "31195    0      3         1      0         0  1  \n",
       "...    ...    ...       ...    ...       ... ..  \n",
       "43362    1      3         2      0         0  1  \n",
       "43363    1      3         2      0         0  1  \n",
       "43364    1      3         1      1         2  1  \n",
       "43365    1      3         1      1         1  1  \n",
       "43366    1      3         1      1         1  1  \n",
       "\n",
       "[248 rows x 14 columns]"
      ],
      "text/html": "<div>\n<style scoped>\n    .dataframe tbody tr th:only-of-type {\n        vertical-align: middle;\n    }\n\n    .dataframe tbody tr th {\n        vertical-align: top;\n    }\n\n    .dataframe thead th {\n        text-align: right;\n    }\n</style>\n<table border=\"1\" class=\"dataframe\">\n  <thead>\n    <tr style=\"text-align: right;\">\n      <th></th>\n      <th>age</th>\n      <th>job</th>\n      <th>marital</th>\n      <th>education</th>\n      <th>default</th>\n      <th>balance</th>\n      <th>housing</th>\n      <th>loan</th>\n      <th>day</th>\n      <th>month</th>\n      <th>campaign</th>\n      <th>pdays</th>\n      <th>previous</th>\n      <th>y</th>\n    </tr>\n  </thead>\n  <tbody>\n    <tr>\n      <th>31182</th>\n      <td>40</td>\n      <td>services</td>\n      <td>married</td>\n      <td>secondary</td>\n      <td>0</td>\n      <td>0</td>\n      <td>1</td>\n      <td>0</td>\n      <td>0</td>\n      <td>3</td>\n      <td>2</td>\n      <td>0</td>\n      <td>0</td>\n      <td>1</td>\n    </tr>\n    <tr>\n      <th>31187</th>\n      <td>30</td>\n      <td>services</td>\n      <td>married</td>\n      <td>secondary</td>\n      <td>0</td>\n      <td>0</td>\n      <td>1</td>\n      <td>0</td>\n      <td>0</td>\n      <td>3</td>\n      <td>2</td>\n      <td>0</td>\n      <td>0</td>\n      <td>1</td>\n    </tr>\n    <tr>\n      <th>31189</th>\n      <td>50</td>\n      <td>technician</td>\n      <td>married</td>\n      <td>secondary</td>\n      <td>0</td>\n      <td>0</td>\n      <td>1</td>\n      <td>1</td>\n      <td>0</td>\n      <td>3</td>\n      <td>1</td>\n      <td>0</td>\n      <td>0</td>\n      <td>1</td>\n    </tr>\n    <tr>\n      <th>31191</th>\n      <td>40</td>\n      <td>blue-collar</td>\n      <td>married</td>\n      <td>primary</td>\n      <td>0</td>\n      <td>1</td>\n      <td>0</td>\n      <td>0</td>\n      <td>0</td>\n      <td>3</td>\n      <td>1</td>\n      <td>0</td>\n      <td>0</td>\n      <td>1</td>\n    </tr>\n    <tr>\n      <th>31195</th>\n      <td>30</td>\n      <td>technician</td>\n      <td>married</td>\n      <td>tertiary</td>\n      <td>0</td>\n      <td>0</td>\n      <td>0</td>\n      <td>0</td>\n      <td>0</td>\n      <td>3</td>\n      <td>1</td>\n      <td>0</td>\n      <td>0</td>\n      <td>1</td>\n    </tr>\n    <tr>\n      <th>...</th>\n      <td>...</td>\n      <td>...</td>\n      <td>...</td>\n      <td>...</td>\n      <td>...</td>\n      <td>...</td>\n      <td>...</td>\n      <td>...</td>\n      <td>...</td>\n      <td>...</td>\n      <td>...</td>\n      <td>...</td>\n      <td>...</td>\n      <td>...</td>\n    </tr>\n    <tr>\n      <th>43362</th>\n      <td>30</td>\n      <td>admin.</td>\n      <td>single</td>\n      <td>tertiary</td>\n      <td>0</td>\n      <td>2</td>\n      <td>0</td>\n      <td>0</td>\n      <td>1</td>\n      <td>3</td>\n      <td>2</td>\n      <td>0</td>\n      <td>0</td>\n      <td>1</td>\n    </tr>\n    <tr>\n      <th>43363</th>\n      <td>40</td>\n      <td>admin.</td>\n      <td>divorced</td>\n      <td>tertiary</td>\n      <td>0</td>\n      <td>0</td>\n      <td>1</td>\n      <td>0</td>\n      <td>1</td>\n      <td>3</td>\n      <td>2</td>\n      <td>0</td>\n      <td>0</td>\n      <td>1</td>\n    </tr>\n    <tr>\n      <th>43364</th>\n      <td>60</td>\n      <td>retired</td>\n      <td>divorced</td>\n      <td>primary</td>\n      <td>0</td>\n      <td>0</td>\n      <td>0</td>\n      <td>0</td>\n      <td>1</td>\n      <td>3</td>\n      <td>1</td>\n      <td>1</td>\n      <td>2</td>\n      <td>1</td>\n    </tr>\n    <tr>\n      <th>43365</th>\n      <td>40</td>\n      <td>management</td>\n      <td>married</td>\n      <td>tertiary</td>\n      <td>0</td>\n      <td>0</td>\n      <td>0</td>\n      <td>0</td>\n      <td>1</td>\n      <td>3</td>\n      <td>1</td>\n      <td>1</td>\n      <td>1</td>\n      <td>1</td>\n    </tr>\n    <tr>\n      <th>43366</th>\n      <td>20</td>\n      <td>student</td>\n      <td>single</td>\n      <td>secondary</td>\n      <td>0</td>\n      <td>2</td>\n      <td>0</td>\n      <td>0</td>\n      <td>1</td>\n      <td>3</td>\n      <td>1</td>\n      <td>1</td>\n      <td>1</td>\n      <td>1</td>\n    </tr>\n  </tbody>\n</table>\n<p>248 rows × 14 columns</p>\n</div>"
     },
     "metadata": {},
     "execution_count": 6
    }
   ],
   "source": [
    "data.loc[(data['month'] == 3) & (data['y'] == 1)]"
   ]
  },
  {
   "cell_type": "code",
   "execution_count": 7,
   "metadata": {},
   "outputs": [
    {
     "output_type": "execute_result",
     "data": {
      "text/plain": [
       "       age            job   marital  education  default  balance  housing  \\\n",
       "31182   40       services   married  secondary        0        0        1   \n",
       "31183   30     technician   married  secondary        0        0        1   \n",
       "31184   30     management   married   tertiary        0        1        1   \n",
       "31185   30     management   married   tertiary        0        0        1   \n",
       "31186   20     technician    single   tertiary        0        0        0   \n",
       "...    ...            ...       ...        ...      ...      ...      ...   \n",
       "43364   60        retired  divorced    primary        0        0        0   \n",
       "43365   40     management   married   tertiary        0        0        0   \n",
       "43366   20        student    single  secondary        0        2        0   \n",
       "43367   20  self-employed    single   tertiary        0        0        0   \n",
       "43368   30    blue-collar   married    primary        0        0        1   \n",
       "\n",
       "       loan  day  month  campaign  pdays  previous  y  \n",
       "31182     0    0      3         2      0         0  1  \n",
       "31183     1    0      3         2      0         0  0  \n",
       "31184     0    0      3         2      0         0  0  \n",
       "31185     0    0      3         2      1         2  0  \n",
       "31186     0    0      3         2      0         0  0  \n",
       "...     ...  ...    ...       ...    ...       ... ..  \n",
       "43364     0    1      3         1      1         2  1  \n",
       "43365     0    1      3         1      1         1  1  \n",
       "43366     0    1      3         1      1         1  1  \n",
       "43367     0    1      3         1      1         1  0  \n",
       "43368     0    1      3         1      0         0  0  \n",
       "\n",
       "[477 rows x 14 columns]"
      ],
      "text/html": "<div>\n<style scoped>\n    .dataframe tbody tr th:only-of-type {\n        vertical-align: middle;\n    }\n\n    .dataframe tbody tr th {\n        vertical-align: top;\n    }\n\n    .dataframe thead th {\n        text-align: right;\n    }\n</style>\n<table border=\"1\" class=\"dataframe\">\n  <thead>\n    <tr style=\"text-align: right;\">\n      <th></th>\n      <th>age</th>\n      <th>job</th>\n      <th>marital</th>\n      <th>education</th>\n      <th>default</th>\n      <th>balance</th>\n      <th>housing</th>\n      <th>loan</th>\n      <th>day</th>\n      <th>month</th>\n      <th>campaign</th>\n      <th>pdays</th>\n      <th>previous</th>\n      <th>y</th>\n    </tr>\n  </thead>\n  <tbody>\n    <tr>\n      <th>31182</th>\n      <td>40</td>\n      <td>services</td>\n      <td>married</td>\n      <td>secondary</td>\n      <td>0</td>\n      <td>0</td>\n      <td>1</td>\n      <td>0</td>\n      <td>0</td>\n      <td>3</td>\n      <td>2</td>\n      <td>0</td>\n      <td>0</td>\n      <td>1</td>\n    </tr>\n    <tr>\n      <th>31183</th>\n      <td>30</td>\n      <td>technician</td>\n      <td>married</td>\n      <td>secondary</td>\n      <td>0</td>\n      <td>0</td>\n      <td>1</td>\n      <td>1</td>\n      <td>0</td>\n      <td>3</td>\n      <td>2</td>\n      <td>0</td>\n      <td>0</td>\n      <td>0</td>\n    </tr>\n    <tr>\n      <th>31184</th>\n      <td>30</td>\n      <td>management</td>\n      <td>married</td>\n      <td>tertiary</td>\n      <td>0</td>\n      <td>1</td>\n      <td>1</td>\n      <td>0</td>\n      <td>0</td>\n      <td>3</td>\n      <td>2</td>\n      <td>0</td>\n      <td>0</td>\n      <td>0</td>\n    </tr>\n    <tr>\n      <th>31185</th>\n      <td>30</td>\n      <td>management</td>\n      <td>married</td>\n      <td>tertiary</td>\n      <td>0</td>\n      <td>0</td>\n      <td>1</td>\n      <td>0</td>\n      <td>0</td>\n      <td>3</td>\n      <td>2</td>\n      <td>1</td>\n      <td>2</td>\n      <td>0</td>\n    </tr>\n    <tr>\n      <th>31186</th>\n      <td>20</td>\n      <td>technician</td>\n      <td>single</td>\n      <td>tertiary</td>\n      <td>0</td>\n      <td>0</td>\n      <td>0</td>\n      <td>0</td>\n      <td>0</td>\n      <td>3</td>\n      <td>2</td>\n      <td>0</td>\n      <td>0</td>\n      <td>0</td>\n    </tr>\n    <tr>\n      <th>...</th>\n      <td>...</td>\n      <td>...</td>\n      <td>...</td>\n      <td>...</td>\n      <td>...</td>\n      <td>...</td>\n      <td>...</td>\n      <td>...</td>\n      <td>...</td>\n      <td>...</td>\n      <td>...</td>\n      <td>...</td>\n      <td>...</td>\n      <td>...</td>\n    </tr>\n    <tr>\n      <th>43364</th>\n      <td>60</td>\n      <td>retired</td>\n      <td>divorced</td>\n      <td>primary</td>\n      <td>0</td>\n      <td>0</td>\n      <td>0</td>\n      <td>0</td>\n      <td>1</td>\n      <td>3</td>\n      <td>1</td>\n      <td>1</td>\n      <td>2</td>\n      <td>1</td>\n    </tr>\n    <tr>\n      <th>43365</th>\n      <td>40</td>\n      <td>management</td>\n      <td>married</td>\n      <td>tertiary</td>\n      <td>0</td>\n      <td>0</td>\n      <td>0</td>\n      <td>0</td>\n      <td>1</td>\n      <td>3</td>\n      <td>1</td>\n      <td>1</td>\n      <td>1</td>\n      <td>1</td>\n    </tr>\n    <tr>\n      <th>43366</th>\n      <td>20</td>\n      <td>student</td>\n      <td>single</td>\n      <td>secondary</td>\n      <td>0</td>\n      <td>2</td>\n      <td>0</td>\n      <td>0</td>\n      <td>1</td>\n      <td>3</td>\n      <td>1</td>\n      <td>1</td>\n      <td>1</td>\n      <td>1</td>\n    </tr>\n    <tr>\n      <th>43367</th>\n      <td>20</td>\n      <td>self-employed</td>\n      <td>single</td>\n      <td>tertiary</td>\n      <td>0</td>\n      <td>0</td>\n      <td>0</td>\n      <td>0</td>\n      <td>1</td>\n      <td>3</td>\n      <td>1</td>\n      <td>1</td>\n      <td>1</td>\n      <td>0</td>\n    </tr>\n    <tr>\n      <th>43368</th>\n      <td>30</td>\n      <td>blue-collar</td>\n      <td>married</td>\n      <td>primary</td>\n      <td>0</td>\n      <td>0</td>\n      <td>1</td>\n      <td>0</td>\n      <td>1</td>\n      <td>3</td>\n      <td>1</td>\n      <td>0</td>\n      <td>0</td>\n      <td>0</td>\n    </tr>\n  </tbody>\n</table>\n<p>477 rows × 14 columns</p>\n</div>"
     },
     "metadata": {},
     "execution_count": 7
    }
   ],
   "source": [
    "data.loc[(data['month'] == 3)]"
   ]
  },
  {
   "cell_type": "code",
   "execution_count": 8,
   "metadata": {},
   "outputs": [
    {
     "output_type": "execute_result",
     "data": {
      "text/plain": [
       "Empty DataFrame\n",
       "Columns: [age, job, marital, education, default, balance, housing, loan, day, month, campaign, pdays, previous, y]\n",
       "Index: []"
      ],
      "text/html": "<div>\n<style scoped>\n    .dataframe tbody tr th:only-of-type {\n        vertical-align: middle;\n    }\n\n    .dataframe tbody tr th {\n        vertical-align: top;\n    }\n\n    .dataframe thead th {\n        text-align: right;\n    }\n</style>\n<table border=\"1\" class=\"dataframe\">\n  <thead>\n    <tr style=\"text-align: right;\">\n      <th></th>\n      <th>age</th>\n      <th>job</th>\n      <th>marital</th>\n      <th>education</th>\n      <th>default</th>\n      <th>balance</th>\n      <th>housing</th>\n      <th>loan</th>\n      <th>day</th>\n      <th>month</th>\n      <th>campaign</th>\n      <th>pdays</th>\n      <th>previous</th>\n      <th>y</th>\n    </tr>\n  </thead>\n  <tbody>\n  </tbody>\n</table>\n</div>"
     },
     "metadata": {},
     "execution_count": 8
    }
   ],
   "source": [
    "data.loc[(data['pdays'] == 2)]"
   ]
  },
  {
   "cell_type": "code",
   "execution_count": 9,
   "metadata": {},
   "outputs": [
    {
     "output_type": "execute_result",
     "data": {
      "text/plain": [
       "       age           job   marital  education  default  balance  housing  \\\n",
       "83      50        admin.   married  secondary        0        0        1   \n",
       "86      50        admin.   married  secondary        0        0        0   \n",
       "87      40    technician   married  secondary        0        0        1   \n",
       "129     50      services   married  secondary        0        0        1   \n",
       "168     50        admin.   married   tertiary        0        0        0   \n",
       "...    ...           ...       ...        ...      ...      ...      ...   \n",
       "45154   30  entrepreneur    single  secondary        0        1        0   \n",
       "45155   50        admin.   married  secondary        0        0        1   \n",
       "45156   30        admin.  divorced  secondary        0        0        1   \n",
       "45157   30   blue-collar   married  secondary        0        0        1   \n",
       "45161   30    technician   married  secondary        0        0        0   \n",
       "\n",
       "       loan  day  month  campaign  pdays  previous  y  \n",
       "83        0    0      5         1      0         0  1  \n",
       "86        0    0      5         1      0         0  1  \n",
       "87        0    0      5         1      0         0  1  \n",
       "129       0    0      5         1      0         0  1  \n",
       "168       0    0      5         2      0         0  1  \n",
       "...     ...  ...    ...       ...    ...       ... ..  \n",
       "45154     0    0     11         2      1         2  1  \n",
       "45155     0    0     11         1      0         0  1  \n",
       "45156     0    0     11         1      1         1  1  \n",
       "45157     0    0     11         1      1         2  1  \n",
       "45161     0    0     11         2      1         2  1  \n",
       "\n",
       "[2848 rows x 14 columns]"
      ],
      "text/html": "<div>\n<style scoped>\n    .dataframe tbody tr th:only-of-type {\n        vertical-align: middle;\n    }\n\n    .dataframe tbody tr th {\n        vertical-align: top;\n    }\n\n    .dataframe thead th {\n        text-align: right;\n    }\n</style>\n<table border=\"1\" class=\"dataframe\">\n  <thead>\n    <tr style=\"text-align: right;\">\n      <th></th>\n      <th>age</th>\n      <th>job</th>\n      <th>marital</th>\n      <th>education</th>\n      <th>default</th>\n      <th>balance</th>\n      <th>housing</th>\n      <th>loan</th>\n      <th>day</th>\n      <th>month</th>\n      <th>campaign</th>\n      <th>pdays</th>\n      <th>previous</th>\n      <th>y</th>\n    </tr>\n  </thead>\n  <tbody>\n    <tr>\n      <th>83</th>\n      <td>50</td>\n      <td>admin.</td>\n      <td>married</td>\n      <td>secondary</td>\n      <td>0</td>\n      <td>0</td>\n      <td>1</td>\n      <td>0</td>\n      <td>0</td>\n      <td>5</td>\n      <td>1</td>\n      <td>0</td>\n      <td>0</td>\n      <td>1</td>\n    </tr>\n    <tr>\n      <th>86</th>\n      <td>50</td>\n      <td>admin.</td>\n      <td>married</td>\n      <td>secondary</td>\n      <td>0</td>\n      <td>0</td>\n      <td>0</td>\n      <td>0</td>\n      <td>0</td>\n      <td>5</td>\n      <td>1</td>\n      <td>0</td>\n      <td>0</td>\n      <td>1</td>\n    </tr>\n    <tr>\n      <th>87</th>\n      <td>40</td>\n      <td>technician</td>\n      <td>married</td>\n      <td>secondary</td>\n      <td>0</td>\n      <td>0</td>\n      <td>1</td>\n      <td>0</td>\n      <td>0</td>\n      <td>5</td>\n      <td>1</td>\n      <td>0</td>\n      <td>0</td>\n      <td>1</td>\n    </tr>\n    <tr>\n      <th>129</th>\n      <td>50</td>\n      <td>services</td>\n      <td>married</td>\n      <td>secondary</td>\n      <td>0</td>\n      <td>0</td>\n      <td>1</td>\n      <td>0</td>\n      <td>0</td>\n      <td>5</td>\n      <td>1</td>\n      <td>0</td>\n      <td>0</td>\n      <td>1</td>\n    </tr>\n    <tr>\n      <th>168</th>\n      <td>50</td>\n      <td>admin.</td>\n      <td>married</td>\n      <td>tertiary</td>\n      <td>0</td>\n      <td>0</td>\n      <td>0</td>\n      <td>0</td>\n      <td>0</td>\n      <td>5</td>\n      <td>2</td>\n      <td>0</td>\n      <td>0</td>\n      <td>1</td>\n    </tr>\n    <tr>\n      <th>...</th>\n      <td>...</td>\n      <td>...</td>\n      <td>...</td>\n      <td>...</td>\n      <td>...</td>\n      <td>...</td>\n      <td>...</td>\n      <td>...</td>\n      <td>...</td>\n      <td>...</td>\n      <td>...</td>\n      <td>...</td>\n      <td>...</td>\n      <td>...</td>\n    </tr>\n    <tr>\n      <th>45154</th>\n      <td>30</td>\n      <td>entrepreneur</td>\n      <td>single</td>\n      <td>secondary</td>\n      <td>0</td>\n      <td>1</td>\n      <td>0</td>\n      <td>0</td>\n      <td>0</td>\n      <td>11</td>\n      <td>2</td>\n      <td>1</td>\n      <td>2</td>\n      <td>1</td>\n    </tr>\n    <tr>\n      <th>45155</th>\n      <td>50</td>\n      <td>admin.</td>\n      <td>married</td>\n      <td>secondary</td>\n      <td>0</td>\n      <td>0</td>\n      <td>1</td>\n      <td>0</td>\n      <td>0</td>\n      <td>11</td>\n      <td>1</td>\n      <td>0</td>\n      <td>0</td>\n      <td>1</td>\n    </tr>\n    <tr>\n      <th>45156</th>\n      <td>30</td>\n      <td>admin.</td>\n      <td>divorced</td>\n      <td>secondary</td>\n      <td>0</td>\n      <td>0</td>\n      <td>1</td>\n      <td>0</td>\n      <td>0</td>\n      <td>11</td>\n      <td>1</td>\n      <td>1</td>\n      <td>1</td>\n      <td>1</td>\n    </tr>\n    <tr>\n      <th>45157</th>\n      <td>30</td>\n      <td>blue-collar</td>\n      <td>married</td>\n      <td>secondary</td>\n      <td>0</td>\n      <td>0</td>\n      <td>1</td>\n      <td>0</td>\n      <td>0</td>\n      <td>11</td>\n      <td>1</td>\n      <td>1</td>\n      <td>2</td>\n      <td>1</td>\n    </tr>\n    <tr>\n      <th>45161</th>\n      <td>30</td>\n      <td>technician</td>\n      <td>married</td>\n      <td>secondary</td>\n      <td>0</td>\n      <td>0</td>\n      <td>0</td>\n      <td>0</td>\n      <td>0</td>\n      <td>11</td>\n      <td>2</td>\n      <td>1</td>\n      <td>2</td>\n      <td>1</td>\n    </tr>\n  </tbody>\n</table>\n<p>2848 rows × 14 columns</p>\n</div>"
     },
     "metadata": {},
     "execution_count": 9
    }
   ],
   "source": [
    "data.loc[(data['day'] == 0) & (data['y'] == 1)]"
   ]
  },
  {
   "cell_type": "code",
   "execution_count": 10,
   "metadata": {},
   "outputs": [
    {
     "output_type": "execute_result",
     "data": {
      "text/plain": [
       "       age         job   marital  education  default  balance  housing  loan  \\\n",
       "28905   60  technician   married  secondary        0        0        0     0   \n",
       "28912   40  technician    single   tertiary        0        0        1     0   \n",
       "28916   40  unemployed   married  secondary        0        0        0     0   \n",
       "28922   50  technician   married  secondary        1       -1        0     0   \n",
       "28946   60     retired   married  secondary        0        0        0     0   \n",
       "...    ...         ...       ...        ...      ...      ...      ...   ...   \n",
       "43137   60     retired  divorced  secondary        0        0        0     0   \n",
       "43138   30  management   married   tertiary        0        0        0     0   \n",
       "43139   50  technician   married  secondary        0        0        0     1   \n",
       "43143   30  management    single   tertiary        0        2        0     0   \n",
       "43146   60     retired   married      other        0        0        0     0   \n",
       "\n",
       "       day  month  campaign  pdays  previous  y  \n",
       "28905    0      2         1      0         0  1  \n",
       "28912    0      2         1      1         2  1  \n",
       "28916    0      2         1      0         0  1  \n",
       "28922    0      2         1      0         0  1  \n",
       "28946    0      2         1      0         0  1  \n",
       "...    ...    ...       ...    ...       ... ..  \n",
       "43137    1      2         1      1         1  1  \n",
       "43138    1      2         2      1         2  1  \n",
       "43139    1      2         1      1         2  1  \n",
       "43143    1      2         1      1         2  1  \n",
       "43146    1      2         2      1         2  1  \n",
       "\n",
       "[441 rows x 14 columns]"
      ],
      "text/html": "<div>\n<style scoped>\n    .dataframe tbody tr th:only-of-type {\n        vertical-align: middle;\n    }\n\n    .dataframe tbody tr th {\n        vertical-align: top;\n    }\n\n    .dataframe thead th {\n        text-align: right;\n    }\n</style>\n<table border=\"1\" class=\"dataframe\">\n  <thead>\n    <tr style=\"text-align: right;\">\n      <th></th>\n      <th>age</th>\n      <th>job</th>\n      <th>marital</th>\n      <th>education</th>\n      <th>default</th>\n      <th>balance</th>\n      <th>housing</th>\n      <th>loan</th>\n      <th>day</th>\n      <th>month</th>\n      <th>campaign</th>\n      <th>pdays</th>\n      <th>previous</th>\n      <th>y</th>\n    </tr>\n  </thead>\n  <tbody>\n    <tr>\n      <th>28905</th>\n      <td>60</td>\n      <td>technician</td>\n      <td>married</td>\n      <td>secondary</td>\n      <td>0</td>\n      <td>0</td>\n      <td>0</td>\n      <td>0</td>\n      <td>0</td>\n      <td>2</td>\n      <td>1</td>\n      <td>0</td>\n      <td>0</td>\n      <td>1</td>\n    </tr>\n    <tr>\n      <th>28912</th>\n      <td>40</td>\n      <td>technician</td>\n      <td>single</td>\n      <td>tertiary</td>\n      <td>0</td>\n      <td>0</td>\n      <td>1</td>\n      <td>0</td>\n      <td>0</td>\n      <td>2</td>\n      <td>1</td>\n      <td>1</td>\n      <td>2</td>\n      <td>1</td>\n    </tr>\n    <tr>\n      <th>28916</th>\n      <td>40</td>\n      <td>unemployed</td>\n      <td>married</td>\n      <td>secondary</td>\n      <td>0</td>\n      <td>0</td>\n      <td>0</td>\n      <td>0</td>\n      <td>0</td>\n      <td>2</td>\n      <td>1</td>\n      <td>0</td>\n      <td>0</td>\n      <td>1</td>\n    </tr>\n    <tr>\n      <th>28922</th>\n      <td>50</td>\n      <td>technician</td>\n      <td>married</td>\n      <td>secondary</td>\n      <td>1</td>\n      <td>-1</td>\n      <td>0</td>\n      <td>0</td>\n      <td>0</td>\n      <td>2</td>\n      <td>1</td>\n      <td>0</td>\n      <td>0</td>\n      <td>1</td>\n    </tr>\n    <tr>\n      <th>28946</th>\n      <td>60</td>\n      <td>retired</td>\n      <td>married</td>\n      <td>secondary</td>\n      <td>0</td>\n      <td>0</td>\n      <td>0</td>\n      <td>0</td>\n      <td>0</td>\n      <td>2</td>\n      <td>1</td>\n      <td>0</td>\n      <td>0</td>\n      <td>1</td>\n    </tr>\n    <tr>\n      <th>...</th>\n      <td>...</td>\n      <td>...</td>\n      <td>...</td>\n      <td>...</td>\n      <td>...</td>\n      <td>...</td>\n      <td>...</td>\n      <td>...</td>\n      <td>...</td>\n      <td>...</td>\n      <td>...</td>\n      <td>...</td>\n      <td>...</td>\n      <td>...</td>\n    </tr>\n    <tr>\n      <th>43137</th>\n      <td>60</td>\n      <td>retired</td>\n      <td>divorced</td>\n      <td>secondary</td>\n      <td>0</td>\n      <td>0</td>\n      <td>0</td>\n      <td>0</td>\n      <td>1</td>\n      <td>2</td>\n      <td>1</td>\n      <td>1</td>\n      <td>1</td>\n      <td>1</td>\n    </tr>\n    <tr>\n      <th>43138</th>\n      <td>30</td>\n      <td>management</td>\n      <td>married</td>\n      <td>tertiary</td>\n      <td>0</td>\n      <td>0</td>\n      <td>0</td>\n      <td>0</td>\n      <td>1</td>\n      <td>2</td>\n      <td>2</td>\n      <td>1</td>\n      <td>2</td>\n      <td>1</td>\n    </tr>\n    <tr>\n      <th>43139</th>\n      <td>50</td>\n      <td>technician</td>\n      <td>married</td>\n      <td>secondary</td>\n      <td>0</td>\n      <td>0</td>\n      <td>0</td>\n      <td>1</td>\n      <td>1</td>\n      <td>2</td>\n      <td>1</td>\n      <td>1</td>\n      <td>2</td>\n      <td>1</td>\n    </tr>\n    <tr>\n      <th>43143</th>\n      <td>30</td>\n      <td>management</td>\n      <td>single</td>\n      <td>tertiary</td>\n      <td>0</td>\n      <td>2</td>\n      <td>0</td>\n      <td>0</td>\n      <td>1</td>\n      <td>2</td>\n      <td>1</td>\n      <td>1</td>\n      <td>2</td>\n      <td>1</td>\n    </tr>\n    <tr>\n      <th>43146</th>\n      <td>60</td>\n      <td>retired</td>\n      <td>married</td>\n      <td>other</td>\n      <td>0</td>\n      <td>0</td>\n      <td>0</td>\n      <td>0</td>\n      <td>1</td>\n      <td>2</td>\n      <td>2</td>\n      <td>1</td>\n      <td>2</td>\n      <td>1</td>\n    </tr>\n  </tbody>\n</table>\n<p>441 rows × 14 columns</p>\n</div>"
     },
     "metadata": {},
     "execution_count": 10
    }
   ],
   "source": [
    "data.loc[(data['month'] == 2) & (data['y']== 1)]"
   ]
  },
  {
   "cell_type": "code",
   "execution_count": 11,
   "metadata": {},
   "outputs": [
    {
     "output_type": "execute_result",
     "data": {
      "text/plain": [
       "       age          job   marital  education  default  balance  housing  loan  \\\n",
       "12445   40  blue-collar    single  secondary        0        0        1     0   \n",
       "12489   30   technician    single   tertiary        0        0        0     0   \n",
       "12493   20   technician    single  secondary        0        0        0     0   \n",
       "12532   20     services    single  secondary        0        0        0     1   \n",
       "12562   30     services   married  secondary        0        0        0     1   \n",
       "...    ...          ...       ...        ...      ...      ...      ...   ...   \n",
       "45183   60      retired   married  secondary        0        1        0     0   \n",
       "45184   20   technician    single  secondary        0        0        0     1   \n",
       "45185   50   technician   married   tertiary        0        0        0     0   \n",
       "45186   60      retired  divorced    primary        0        0        0     0   \n",
       "45187   60      retired   married  secondary        0        2        0     0   \n",
       "\n",
       "       day  month  campaign  pdays  previous  y  \n",
       "12445    0      7         2      0         0  1  \n",
       "12489    0      7         2      0         0  1  \n",
       "12493    0      7         2      0         0  1  \n",
       "12532    0      7         2      0         0  1  \n",
       "12562    0      7         1      0         0  1  \n",
       "...    ...    ...       ...    ...       ... ..  \n",
       "45183    1     11         1      1         2  1  \n",
       "45184    1     11         2      0         0  1  \n",
       "45185    1     11         2      0         0  1  \n",
       "45186    1     11         2      0         0  1  \n",
       "45187    1     11         2      1         2  1  \n",
       "\n",
       "[2410 rows x 14 columns]"
      ],
      "text/html": "<div>\n<style scoped>\n    .dataframe tbody tr th:only-of-type {\n        vertical-align: middle;\n    }\n\n    .dataframe tbody tr th {\n        vertical-align: top;\n    }\n\n    .dataframe thead th {\n        text-align: right;\n    }\n</style>\n<table border=\"1\" class=\"dataframe\">\n  <thead>\n    <tr style=\"text-align: right;\">\n      <th></th>\n      <th>age</th>\n      <th>job</th>\n      <th>marital</th>\n      <th>education</th>\n      <th>default</th>\n      <th>balance</th>\n      <th>housing</th>\n      <th>loan</th>\n      <th>day</th>\n      <th>month</th>\n      <th>campaign</th>\n      <th>pdays</th>\n      <th>previous</th>\n      <th>y</th>\n    </tr>\n  </thead>\n  <tbody>\n    <tr>\n      <th>12445</th>\n      <td>40</td>\n      <td>blue-collar</td>\n      <td>single</td>\n      <td>secondary</td>\n      <td>0</td>\n      <td>0</td>\n      <td>1</td>\n      <td>0</td>\n      <td>0</td>\n      <td>7</td>\n      <td>2</td>\n      <td>0</td>\n      <td>0</td>\n      <td>1</td>\n    </tr>\n    <tr>\n      <th>12489</th>\n      <td>30</td>\n      <td>technician</td>\n      <td>single</td>\n      <td>tertiary</td>\n      <td>0</td>\n      <td>0</td>\n      <td>0</td>\n      <td>0</td>\n      <td>0</td>\n      <td>7</td>\n      <td>2</td>\n      <td>0</td>\n      <td>0</td>\n      <td>1</td>\n    </tr>\n    <tr>\n      <th>12493</th>\n      <td>20</td>\n      <td>technician</td>\n      <td>single</td>\n      <td>secondary</td>\n      <td>0</td>\n      <td>0</td>\n      <td>0</td>\n      <td>0</td>\n      <td>0</td>\n      <td>7</td>\n      <td>2</td>\n      <td>0</td>\n      <td>0</td>\n      <td>1</td>\n    </tr>\n    <tr>\n      <th>12532</th>\n      <td>20</td>\n      <td>services</td>\n      <td>single</td>\n      <td>secondary</td>\n      <td>0</td>\n      <td>0</td>\n      <td>0</td>\n      <td>1</td>\n      <td>0</td>\n      <td>7</td>\n      <td>2</td>\n      <td>0</td>\n      <td>0</td>\n      <td>1</td>\n    </tr>\n    <tr>\n      <th>12562</th>\n      <td>30</td>\n      <td>services</td>\n      <td>married</td>\n      <td>secondary</td>\n      <td>0</td>\n      <td>0</td>\n      <td>0</td>\n      <td>1</td>\n      <td>0</td>\n      <td>7</td>\n      <td>1</td>\n      <td>0</td>\n      <td>0</td>\n      <td>1</td>\n    </tr>\n    <tr>\n      <th>...</th>\n      <td>...</td>\n      <td>...</td>\n      <td>...</td>\n      <td>...</td>\n      <td>...</td>\n      <td>...</td>\n      <td>...</td>\n      <td>...</td>\n      <td>...</td>\n      <td>...</td>\n      <td>...</td>\n      <td>...</td>\n      <td>...</td>\n      <td>...</td>\n    </tr>\n    <tr>\n      <th>45183</th>\n      <td>60</td>\n      <td>retired</td>\n      <td>married</td>\n      <td>secondary</td>\n      <td>0</td>\n      <td>1</td>\n      <td>0</td>\n      <td>0</td>\n      <td>1</td>\n      <td>11</td>\n      <td>1</td>\n      <td>1</td>\n      <td>2</td>\n      <td>1</td>\n    </tr>\n    <tr>\n      <th>45184</th>\n      <td>20</td>\n      <td>technician</td>\n      <td>single</td>\n      <td>secondary</td>\n      <td>0</td>\n      <td>0</td>\n      <td>0</td>\n      <td>1</td>\n      <td>1</td>\n      <td>11</td>\n      <td>2</td>\n      <td>0</td>\n      <td>0</td>\n      <td>1</td>\n    </tr>\n    <tr>\n      <th>45185</th>\n      <td>50</td>\n      <td>technician</td>\n      <td>married</td>\n      <td>tertiary</td>\n      <td>0</td>\n      <td>0</td>\n      <td>0</td>\n      <td>0</td>\n      <td>1</td>\n      <td>11</td>\n      <td>2</td>\n      <td>0</td>\n      <td>0</td>\n      <td>1</td>\n    </tr>\n    <tr>\n      <th>45186</th>\n      <td>60</td>\n      <td>retired</td>\n      <td>divorced</td>\n      <td>primary</td>\n      <td>0</td>\n      <td>0</td>\n      <td>0</td>\n      <td>0</td>\n      <td>1</td>\n      <td>11</td>\n      <td>2</td>\n      <td>0</td>\n      <td>0</td>\n      <td>1</td>\n    </tr>\n    <tr>\n      <th>45187</th>\n      <td>60</td>\n      <td>retired</td>\n      <td>married</td>\n      <td>secondary</td>\n      <td>0</td>\n      <td>2</td>\n      <td>0</td>\n      <td>0</td>\n      <td>1</td>\n      <td>11</td>\n      <td>2</td>\n      <td>1</td>\n      <td>2</td>\n      <td>1</td>\n    </tr>\n  </tbody>\n</table>\n<p>2410 rows × 14 columns</p>\n</div>"
     },
     "metadata": {},
     "execution_count": 11
    }
   ],
   "source": [
    "data.loc[(data['month'] >6) & (data['y']== 1)]"
   ]
  },
  {
   "cell_type": "code",
   "execution_count": 12,
   "metadata": {},
   "outputs": [
    {
     "output_type": "execute_result",
     "data": {
      "text/plain": [
       "       age            job   marital  education  default  balance  housing  \\\n",
       "1767    30    blue-collar   married  secondary        1       -1        1   \n",
       "2387    20       services    single  secondary        1       -1        1   \n",
       "4896    30    blue-collar    single  secondary        1        0        1   \n",
       "7635    40     technician   married  secondary        1        0        0   \n",
       "8216    40     technician    single  secondary        1       -1        1   \n",
       "8343    40     management  divorced   tertiary        1       -1        1   \n",
       "8440    40  self-employed   married  secondary        1       -1        1   \n",
       "8568    20    blue-collar    single  secondary        1       -1        1   \n",
       "8815    20     management    single   tertiary        1       -1        1   \n",
       "9142    50      housemaid  divorced    primary        1        0        0   \n",
       "9440    20     technician    single  secondary        1       -1        1   \n",
       "10452   20    blue-collar    single  secondary        1       -1        1   \n",
       "11524   40   entrepreneur   married   tertiary        1        0        0   \n",
       "12247   20    blue-collar    single  secondary        1       -1        0   \n",
       "12860   40    blue-collar    single  secondary        1        0        1   \n",
       "13064   50   entrepreneur   married   tertiary        1       -1        0   \n",
       "13080   20     technician    single  secondary        1        0        0   \n",
       "13198   20    blue-collar    single  secondary        1        0        0   \n",
       "13511   20         admin.  divorced   tertiary        1        0        0   \n",
       "13542   30     management   married   tertiary        1        0        1   \n",
       "14693   30       services  divorced  secondary        1        0        0   \n",
       "15347   30     technician   married  secondary        1       -1        1   \n",
       "15353   30       services    single  secondary        1       -1        1   \n",
       "16666   40    blue-collar   married  secondary        1        0        0   \n",
       "17994   40     unemployed    single    primary        1       -1        0   \n",
       "17998   40   entrepreneur  divorced      other        1       -1        1   \n",
       "18035   40       services   married      other        1       -1        0   \n",
       "18403   40   entrepreneur   married   tertiary        1       -1        0   \n",
       "19244   30     management  divorced   tertiary        1        0        0   \n",
       "20583   30     technician    single  secondary        1        0        0   \n",
       "20728   30   entrepreneur    single   tertiary        1       -1        1   \n",
       "22859   40    blue-collar   married      other        1        0        0   \n",
       "24546   40  self-employed   married  secondary        1        0        1   \n",
       "26174   40    blue-collar    single  secondary        1       -1        0   \n",
       "27041   40     management    single   tertiary        1        0        1   \n",
       "27744   50     technician  divorced  secondary        1        0        0   \n",
       "28201   50    blue-collar   married    primary        1       -1        0   \n",
       "28642   20     management    single    primary        1        0        0   \n",
       "28922   50     technician   married  secondary        1       -1        0   \n",
       "32180   30    blue-collar   married  secondary        1       -1        1   \n",
       "32798   30     technician    single  secondary        1       -1        1   \n",
       "32805   30    blue-collar  divorced      other        1       -1        1   \n",
       "32846   30     management   married  secondary        1        0        1   \n",
       "33271   40    blue-collar   married  secondary        1        0        1   \n",
       "33316   40    blue-collar   married    primary        1       -1        1   \n",
       "34749   30     technician  divorced   tertiary        1        0        0   \n",
       "35540   40         admin.   married  secondary        1       -1        1   \n",
       "37689   20         admin.    single  secondary        1       -1        1   \n",
       "38413   30   entrepreneur   married   tertiary        1       -1        1   \n",
       "40927   40     unemployed  divorced    primary        1        0        0   \n",
       "41541   60        retired  divorced   tertiary        1        0        1   \n",
       "44078   20     management    single   tertiary        1        0        1   \n",
       "\n",
       "       loan  day  month  campaign  pdays  previous  y  \n",
       "1767      0    0      5         1      0         0  1  \n",
       "2387      0    0      5         1      0         0  1  \n",
       "4896      0    1      5         1      0         0  1  \n",
       "7635      0    1      5         1      0         0  1  \n",
       "8216      0    0      6         2      0         0  1  \n",
       "8343      0    0      6         2      0         0  1  \n",
       "8440      1    0      6         2      0         0  1  \n",
       "8568      0    0      6         2      0         0  1  \n",
       "8815      0    0      6         2      0         0  1  \n",
       "9142      0    0      6         1      0         0  1  \n",
       "9440      0    0      6         2      0         0  1  \n",
       "10452     0    0      6         2      0         0  1  \n",
       "11524     0    1      6         2      0         0  1  \n",
       "12247     0    1      6         2      0         0  1  \n",
       "12860     1    0      7         1      0         0  1  \n",
       "13064     0    0      7         1      0         0  1  \n",
       "13080     1    0      7         1      0         0  1  \n",
       "13198     1    0      7         2      0         0  1  \n",
       "13511     1    0      7         2      0         0  1  \n",
       "13542     1    0      7         2      0         0  1  \n",
       "14693     1    0      7         2      0         0  1  \n",
       "15347     0    1      7         2      0         0  1  \n",
       "15353     0    1      7         1      0         0  1  \n",
       "16666     1    1      7         1      0         0  1  \n",
       "17994     1    1      7         2      0         0  1  \n",
       "17998     0    1      7         2      0         0  1  \n",
       "18035     1    1      7         2      0         0  1  \n",
       "18403     0    1      7         2      0         0  1  \n",
       "19244     0    0      8         2      0         0  1  \n",
       "20583     0    0      8         2      0         0  1  \n",
       "20728     1    0      8         2      0         0  1  \n",
       "22859     0    1      8         2      0         0  1  \n",
       "24546     0    1     11         1      0         0  1  \n",
       "26174     1    1     11         1      0         0  1  \n",
       "27041     0    1     11         1      0         0  1  \n",
       "27744     0    1      1         1      0         0  1  \n",
       "28201     0    1      1         1      0         0  1  \n",
       "28642     0    1      1         2      0         0  1  \n",
       "28922     0    0      2         1      0         0  1  \n",
       "32180     0    1      4         1      1         1  1  \n",
       "32798     0    1      4         1      0         0  1  \n",
       "32805     1    1      4         2      1         2  1  \n",
       "32846     0    1      4         1      1         1  1  \n",
       "33271     0    1      4         1      0         0  1  \n",
       "33316     1    1      4         1      0         0  1  \n",
       "34749     0    0      5         1      0         0  1  \n",
       "35540     1    0      5         2      1         1  1  \n",
       "37689     0    0      5         1      0         0  1  \n",
       "38413     0    0      5         2      0         0  1  \n",
       "40927     0    0      8         2      0         0  1  \n",
       "41541     0    0      9         2      0         0  1  \n",
       "44078     0    0      7         1      1         1  1  "
      ],
      "text/html": "<div>\n<style scoped>\n    .dataframe tbody tr th:only-of-type {\n        vertical-align: middle;\n    }\n\n    .dataframe tbody tr th {\n        vertical-align: top;\n    }\n\n    .dataframe thead th {\n        text-align: right;\n    }\n</style>\n<table border=\"1\" class=\"dataframe\">\n  <thead>\n    <tr style=\"text-align: right;\">\n      <th></th>\n      <th>age</th>\n      <th>job</th>\n      <th>marital</th>\n      <th>education</th>\n      <th>default</th>\n      <th>balance</th>\n      <th>housing</th>\n      <th>loan</th>\n      <th>day</th>\n      <th>month</th>\n      <th>campaign</th>\n      <th>pdays</th>\n      <th>previous</th>\n      <th>y</th>\n    </tr>\n  </thead>\n  <tbody>\n    <tr>\n      <th>1767</th>\n      <td>30</td>\n      <td>blue-collar</td>\n      <td>married</td>\n      <td>secondary</td>\n      <td>1</td>\n      <td>-1</td>\n      <td>1</td>\n      <td>0</td>\n      <td>0</td>\n      <td>5</td>\n      <td>1</td>\n      <td>0</td>\n      <td>0</td>\n      <td>1</td>\n    </tr>\n    <tr>\n      <th>2387</th>\n      <td>20</td>\n      <td>services</td>\n      <td>single</td>\n      <td>secondary</td>\n      <td>1</td>\n      <td>-1</td>\n      <td>1</td>\n      <td>0</td>\n      <td>0</td>\n      <td>5</td>\n      <td>1</td>\n      <td>0</td>\n      <td>0</td>\n      <td>1</td>\n    </tr>\n    <tr>\n      <th>4896</th>\n      <td>30</td>\n      <td>blue-collar</td>\n      <td>single</td>\n      <td>secondary</td>\n      <td>1</td>\n      <td>0</td>\n      <td>1</td>\n      <td>0</td>\n      <td>1</td>\n      <td>5</td>\n      <td>1</td>\n      <td>0</td>\n      <td>0</td>\n      <td>1</td>\n    </tr>\n    <tr>\n      <th>7635</th>\n      <td>40</td>\n      <td>technician</td>\n      <td>married</td>\n      <td>secondary</td>\n      <td>1</td>\n      <td>0</td>\n      <td>0</td>\n      <td>0</td>\n      <td>1</td>\n      <td>5</td>\n      <td>1</td>\n      <td>0</td>\n      <td>0</td>\n      <td>1</td>\n    </tr>\n    <tr>\n      <th>8216</th>\n      <td>40</td>\n      <td>technician</td>\n      <td>single</td>\n      <td>secondary</td>\n      <td>1</td>\n      <td>-1</td>\n      <td>1</td>\n      <td>0</td>\n      <td>0</td>\n      <td>6</td>\n      <td>2</td>\n      <td>0</td>\n      <td>0</td>\n      <td>1</td>\n    </tr>\n    <tr>\n      <th>8343</th>\n      <td>40</td>\n      <td>management</td>\n      <td>divorced</td>\n      <td>tertiary</td>\n      <td>1</td>\n      <td>-1</td>\n      <td>1</td>\n      <td>0</td>\n      <td>0</td>\n      <td>6</td>\n      <td>2</td>\n      <td>0</td>\n      <td>0</td>\n      <td>1</td>\n    </tr>\n    <tr>\n      <th>8440</th>\n      <td>40</td>\n      <td>self-employed</td>\n      <td>married</td>\n      <td>secondary</td>\n      <td>1</td>\n      <td>-1</td>\n      <td>1</td>\n      <td>1</td>\n      <td>0</td>\n      <td>6</td>\n      <td>2</td>\n      <td>0</td>\n      <td>0</td>\n      <td>1</td>\n    </tr>\n    <tr>\n      <th>8568</th>\n      <td>20</td>\n      <td>blue-collar</td>\n      <td>single</td>\n      <td>secondary</td>\n      <td>1</td>\n      <td>-1</td>\n      <td>1</td>\n      <td>0</td>\n      <td>0</td>\n      <td>6</td>\n      <td>2</td>\n      <td>0</td>\n      <td>0</td>\n      <td>1</td>\n    </tr>\n    <tr>\n      <th>8815</th>\n      <td>20</td>\n      <td>management</td>\n      <td>single</td>\n      <td>tertiary</td>\n      <td>1</td>\n      <td>-1</td>\n      <td>1</td>\n      <td>0</td>\n      <td>0</td>\n      <td>6</td>\n      <td>2</td>\n      <td>0</td>\n      <td>0</td>\n      <td>1</td>\n    </tr>\n    <tr>\n      <th>9142</th>\n      <td>50</td>\n      <td>housemaid</td>\n      <td>divorced</td>\n      <td>primary</td>\n      <td>1</td>\n      <td>0</td>\n      <td>0</td>\n      <td>0</td>\n      <td>0</td>\n      <td>6</td>\n      <td>1</td>\n      <td>0</td>\n      <td>0</td>\n      <td>1</td>\n    </tr>\n    <tr>\n      <th>9440</th>\n      <td>20</td>\n      <td>technician</td>\n      <td>single</td>\n      <td>secondary</td>\n      <td>1</td>\n      <td>-1</td>\n      <td>1</td>\n      <td>0</td>\n      <td>0</td>\n      <td>6</td>\n      <td>2</td>\n      <td>0</td>\n      <td>0</td>\n      <td>1</td>\n    </tr>\n    <tr>\n      <th>10452</th>\n      <td>20</td>\n      <td>blue-collar</td>\n      <td>single</td>\n      <td>secondary</td>\n      <td>1</td>\n      <td>-1</td>\n      <td>1</td>\n      <td>0</td>\n      <td>0</td>\n      <td>6</td>\n      <td>2</td>\n      <td>0</td>\n      <td>0</td>\n      <td>1</td>\n    </tr>\n    <tr>\n      <th>11524</th>\n      <td>40</td>\n      <td>entrepreneur</td>\n      <td>married</td>\n      <td>tertiary</td>\n      <td>1</td>\n      <td>0</td>\n      <td>0</td>\n      <td>0</td>\n      <td>1</td>\n      <td>6</td>\n      <td>2</td>\n      <td>0</td>\n      <td>0</td>\n      <td>1</td>\n    </tr>\n    <tr>\n      <th>12247</th>\n      <td>20</td>\n      <td>blue-collar</td>\n      <td>single</td>\n      <td>secondary</td>\n      <td>1</td>\n      <td>-1</td>\n      <td>0</td>\n      <td>0</td>\n      <td>1</td>\n      <td>6</td>\n      <td>2</td>\n      <td>0</td>\n      <td>0</td>\n      <td>1</td>\n    </tr>\n    <tr>\n      <th>12860</th>\n      <td>40</td>\n      <td>blue-collar</td>\n      <td>single</td>\n      <td>secondary</td>\n      <td>1</td>\n      <td>0</td>\n      <td>1</td>\n      <td>1</td>\n      <td>0</td>\n      <td>7</td>\n      <td>1</td>\n      <td>0</td>\n      <td>0</td>\n      <td>1</td>\n    </tr>\n    <tr>\n      <th>13064</th>\n      <td>50</td>\n      <td>entrepreneur</td>\n      <td>married</td>\n      <td>tertiary</td>\n      <td>1</td>\n      <td>-1</td>\n      <td>0</td>\n      <td>0</td>\n      <td>0</td>\n      <td>7</td>\n      <td>1</td>\n      <td>0</td>\n      <td>0</td>\n      <td>1</td>\n    </tr>\n    <tr>\n      <th>13080</th>\n      <td>20</td>\n      <td>technician</td>\n      <td>single</td>\n      <td>secondary</td>\n      <td>1</td>\n      <td>0</td>\n      <td>0</td>\n      <td>1</td>\n      <td>0</td>\n      <td>7</td>\n      <td>1</td>\n      <td>0</td>\n      <td>0</td>\n      <td>1</td>\n    </tr>\n    <tr>\n      <th>13198</th>\n      <td>20</td>\n      <td>blue-collar</td>\n      <td>single</td>\n      <td>secondary</td>\n      <td>1</td>\n      <td>0</td>\n      <td>0</td>\n      <td>1</td>\n      <td>0</td>\n      <td>7</td>\n      <td>2</td>\n      <td>0</td>\n      <td>0</td>\n      <td>1</td>\n    </tr>\n    <tr>\n      <th>13511</th>\n      <td>20</td>\n      <td>admin.</td>\n      <td>divorced</td>\n      <td>tertiary</td>\n      <td>1</td>\n      <td>0</td>\n      <td>0</td>\n      <td>1</td>\n      <td>0</td>\n      <td>7</td>\n      <td>2</td>\n      <td>0</td>\n      <td>0</td>\n      <td>1</td>\n    </tr>\n    <tr>\n      <th>13542</th>\n      <td>30</td>\n      <td>management</td>\n      <td>married</td>\n      <td>tertiary</td>\n      <td>1</td>\n      <td>0</td>\n      <td>1</td>\n      <td>1</td>\n      <td>0</td>\n      <td>7</td>\n      <td>2</td>\n      <td>0</td>\n      <td>0</td>\n      <td>1</td>\n    </tr>\n    <tr>\n      <th>14693</th>\n      <td>30</td>\n      <td>services</td>\n      <td>divorced</td>\n      <td>secondary</td>\n      <td>1</td>\n      <td>0</td>\n      <td>0</td>\n      <td>1</td>\n      <td>0</td>\n      <td>7</td>\n      <td>2</td>\n      <td>0</td>\n      <td>0</td>\n      <td>1</td>\n    </tr>\n    <tr>\n      <th>15347</th>\n      <td>30</td>\n      <td>technician</td>\n      <td>married</td>\n      <td>secondary</td>\n      <td>1</td>\n      <td>-1</td>\n      <td>1</td>\n      <td>0</td>\n      <td>1</td>\n      <td>7</td>\n      <td>2</td>\n      <td>0</td>\n      <td>0</td>\n      <td>1</td>\n    </tr>\n    <tr>\n      <th>15353</th>\n      <td>30</td>\n      <td>services</td>\n      <td>single</td>\n      <td>secondary</td>\n      <td>1</td>\n      <td>-1</td>\n      <td>1</td>\n      <td>0</td>\n      <td>1</td>\n      <td>7</td>\n      <td>1</td>\n      <td>0</td>\n      <td>0</td>\n      <td>1</td>\n    </tr>\n    <tr>\n      <th>16666</th>\n      <td>40</td>\n      <td>blue-collar</td>\n      <td>married</td>\n      <td>secondary</td>\n      <td>1</td>\n      <td>0</td>\n      <td>0</td>\n      <td>1</td>\n      <td>1</td>\n      <td>7</td>\n      <td>1</td>\n      <td>0</td>\n      <td>0</td>\n      <td>1</td>\n    </tr>\n    <tr>\n      <th>17994</th>\n      <td>40</td>\n      <td>unemployed</td>\n      <td>single</td>\n      <td>primary</td>\n      <td>1</td>\n      <td>-1</td>\n      <td>0</td>\n      <td>1</td>\n      <td>1</td>\n      <td>7</td>\n      <td>2</td>\n      <td>0</td>\n      <td>0</td>\n      <td>1</td>\n    </tr>\n    <tr>\n      <th>17998</th>\n      <td>40</td>\n      <td>entrepreneur</td>\n      <td>divorced</td>\n      <td>other</td>\n      <td>1</td>\n      <td>-1</td>\n      <td>1</td>\n      <td>0</td>\n      <td>1</td>\n      <td>7</td>\n      <td>2</td>\n      <td>0</td>\n      <td>0</td>\n      <td>1</td>\n    </tr>\n    <tr>\n      <th>18035</th>\n      <td>40</td>\n      <td>services</td>\n      <td>married</td>\n      <td>other</td>\n      <td>1</td>\n      <td>-1</td>\n      <td>0</td>\n      <td>1</td>\n      <td>1</td>\n      <td>7</td>\n      <td>2</td>\n      <td>0</td>\n      <td>0</td>\n      <td>1</td>\n    </tr>\n    <tr>\n      <th>18403</th>\n      <td>40</td>\n      <td>entrepreneur</td>\n      <td>married</td>\n      <td>tertiary</td>\n      <td>1</td>\n      <td>-1</td>\n      <td>0</td>\n      <td>0</td>\n      <td>1</td>\n      <td>7</td>\n      <td>2</td>\n      <td>0</td>\n      <td>0</td>\n      <td>1</td>\n    </tr>\n    <tr>\n      <th>19244</th>\n      <td>30</td>\n      <td>management</td>\n      <td>divorced</td>\n      <td>tertiary</td>\n      <td>1</td>\n      <td>0</td>\n      <td>0</td>\n      <td>0</td>\n      <td>0</td>\n      <td>8</td>\n      <td>2</td>\n      <td>0</td>\n      <td>0</td>\n      <td>1</td>\n    </tr>\n    <tr>\n      <th>20583</th>\n      <td>30</td>\n      <td>technician</td>\n      <td>single</td>\n      <td>secondary</td>\n      <td>1</td>\n      <td>0</td>\n      <td>0</td>\n      <td>0</td>\n      <td>0</td>\n      <td>8</td>\n      <td>2</td>\n      <td>0</td>\n      <td>0</td>\n      <td>1</td>\n    </tr>\n    <tr>\n      <th>20728</th>\n      <td>30</td>\n      <td>entrepreneur</td>\n      <td>single</td>\n      <td>tertiary</td>\n      <td>1</td>\n      <td>-1</td>\n      <td>1</td>\n      <td>1</td>\n      <td>0</td>\n      <td>8</td>\n      <td>2</td>\n      <td>0</td>\n      <td>0</td>\n      <td>1</td>\n    </tr>\n    <tr>\n      <th>22859</th>\n      <td>40</td>\n      <td>blue-collar</td>\n      <td>married</td>\n      <td>other</td>\n      <td>1</td>\n      <td>0</td>\n      <td>0</td>\n      <td>0</td>\n      <td>1</td>\n      <td>8</td>\n      <td>2</td>\n      <td>0</td>\n      <td>0</td>\n      <td>1</td>\n    </tr>\n    <tr>\n      <th>24546</th>\n      <td>40</td>\n      <td>self-employed</td>\n      <td>married</td>\n      <td>secondary</td>\n      <td>1</td>\n      <td>0</td>\n      <td>1</td>\n      <td>0</td>\n      <td>1</td>\n      <td>11</td>\n      <td>1</td>\n      <td>0</td>\n      <td>0</td>\n      <td>1</td>\n    </tr>\n    <tr>\n      <th>26174</th>\n      <td>40</td>\n      <td>blue-collar</td>\n      <td>single</td>\n      <td>secondary</td>\n      <td>1</td>\n      <td>-1</td>\n      <td>0</td>\n      <td>1</td>\n      <td>1</td>\n      <td>11</td>\n      <td>1</td>\n      <td>0</td>\n      <td>0</td>\n      <td>1</td>\n    </tr>\n    <tr>\n      <th>27041</th>\n      <td>40</td>\n      <td>management</td>\n      <td>single</td>\n      <td>tertiary</td>\n      <td>1</td>\n      <td>0</td>\n      <td>1</td>\n      <td>0</td>\n      <td>1</td>\n      <td>11</td>\n      <td>1</td>\n      <td>0</td>\n      <td>0</td>\n      <td>1</td>\n    </tr>\n    <tr>\n      <th>27744</th>\n      <td>50</td>\n      <td>technician</td>\n      <td>divorced</td>\n      <td>secondary</td>\n      <td>1</td>\n      <td>0</td>\n      <td>0</td>\n      <td>0</td>\n      <td>1</td>\n      <td>1</td>\n      <td>1</td>\n      <td>0</td>\n      <td>0</td>\n      <td>1</td>\n    </tr>\n    <tr>\n      <th>28201</th>\n      <td>50</td>\n      <td>blue-collar</td>\n      <td>married</td>\n      <td>primary</td>\n      <td>1</td>\n      <td>-1</td>\n      <td>0</td>\n      <td>0</td>\n      <td>1</td>\n      <td>1</td>\n      <td>1</td>\n      <td>0</td>\n      <td>0</td>\n      <td>1</td>\n    </tr>\n    <tr>\n      <th>28642</th>\n      <td>20</td>\n      <td>management</td>\n      <td>single</td>\n      <td>primary</td>\n      <td>1</td>\n      <td>0</td>\n      <td>0</td>\n      <td>0</td>\n      <td>1</td>\n      <td>1</td>\n      <td>2</td>\n      <td>0</td>\n      <td>0</td>\n      <td>1</td>\n    </tr>\n    <tr>\n      <th>28922</th>\n      <td>50</td>\n      <td>technician</td>\n      <td>married</td>\n      <td>secondary</td>\n      <td>1</td>\n      <td>-1</td>\n      <td>0</td>\n      <td>0</td>\n      <td>0</td>\n      <td>2</td>\n      <td>1</td>\n      <td>0</td>\n      <td>0</td>\n      <td>1</td>\n    </tr>\n    <tr>\n      <th>32180</th>\n      <td>30</td>\n      <td>blue-collar</td>\n      <td>married</td>\n      <td>secondary</td>\n      <td>1</td>\n      <td>-1</td>\n      <td>1</td>\n      <td>0</td>\n      <td>1</td>\n      <td>4</td>\n      <td>1</td>\n      <td>1</td>\n      <td>1</td>\n      <td>1</td>\n    </tr>\n    <tr>\n      <th>32798</th>\n      <td>30</td>\n      <td>technician</td>\n      <td>single</td>\n      <td>secondary</td>\n      <td>1</td>\n      <td>-1</td>\n      <td>1</td>\n      <td>0</td>\n      <td>1</td>\n      <td>4</td>\n      <td>1</td>\n      <td>0</td>\n      <td>0</td>\n      <td>1</td>\n    </tr>\n    <tr>\n      <th>32805</th>\n      <td>30</td>\n      <td>blue-collar</td>\n      <td>divorced</td>\n      <td>other</td>\n      <td>1</td>\n      <td>-1</td>\n      <td>1</td>\n      <td>1</td>\n      <td>1</td>\n      <td>4</td>\n      <td>2</td>\n      <td>1</td>\n      <td>2</td>\n      <td>1</td>\n    </tr>\n    <tr>\n      <th>32846</th>\n      <td>30</td>\n      <td>management</td>\n      <td>married</td>\n      <td>secondary</td>\n      <td>1</td>\n      <td>0</td>\n      <td>1</td>\n      <td>0</td>\n      <td>1</td>\n      <td>4</td>\n      <td>1</td>\n      <td>1</td>\n      <td>1</td>\n      <td>1</td>\n    </tr>\n    <tr>\n      <th>33271</th>\n      <td>40</td>\n      <td>blue-collar</td>\n      <td>married</td>\n      <td>secondary</td>\n      <td>1</td>\n      <td>0</td>\n      <td>1</td>\n      <td>0</td>\n      <td>1</td>\n      <td>4</td>\n      <td>1</td>\n      <td>0</td>\n      <td>0</td>\n      <td>1</td>\n    </tr>\n    <tr>\n      <th>33316</th>\n      <td>40</td>\n      <td>blue-collar</td>\n      <td>married</td>\n      <td>primary</td>\n      <td>1</td>\n      <td>-1</td>\n      <td>1</td>\n      <td>1</td>\n      <td>1</td>\n      <td>4</td>\n      <td>1</td>\n      <td>0</td>\n      <td>0</td>\n      <td>1</td>\n    </tr>\n    <tr>\n      <th>34749</th>\n      <td>30</td>\n      <td>technician</td>\n      <td>divorced</td>\n      <td>tertiary</td>\n      <td>1</td>\n      <td>0</td>\n      <td>0</td>\n      <td>0</td>\n      <td>0</td>\n      <td>5</td>\n      <td>1</td>\n      <td>0</td>\n      <td>0</td>\n      <td>1</td>\n    </tr>\n    <tr>\n      <th>35540</th>\n      <td>40</td>\n      <td>admin.</td>\n      <td>married</td>\n      <td>secondary</td>\n      <td>1</td>\n      <td>-1</td>\n      <td>1</td>\n      <td>1</td>\n      <td>0</td>\n      <td>5</td>\n      <td>2</td>\n      <td>1</td>\n      <td>1</td>\n      <td>1</td>\n    </tr>\n    <tr>\n      <th>37689</th>\n      <td>20</td>\n      <td>admin.</td>\n      <td>single</td>\n      <td>secondary</td>\n      <td>1</td>\n      <td>-1</td>\n      <td>1</td>\n      <td>0</td>\n      <td>0</td>\n      <td>5</td>\n      <td>1</td>\n      <td>0</td>\n      <td>0</td>\n      <td>1</td>\n    </tr>\n    <tr>\n      <th>38413</th>\n      <td>30</td>\n      <td>entrepreneur</td>\n      <td>married</td>\n      <td>tertiary</td>\n      <td>1</td>\n      <td>-1</td>\n      <td>1</td>\n      <td>0</td>\n      <td>0</td>\n      <td>5</td>\n      <td>2</td>\n      <td>0</td>\n      <td>0</td>\n      <td>1</td>\n    </tr>\n    <tr>\n      <th>40927</th>\n      <td>40</td>\n      <td>unemployed</td>\n      <td>divorced</td>\n      <td>primary</td>\n      <td>1</td>\n      <td>0</td>\n      <td>0</td>\n      <td>0</td>\n      <td>0</td>\n      <td>8</td>\n      <td>2</td>\n      <td>0</td>\n      <td>0</td>\n      <td>1</td>\n    </tr>\n    <tr>\n      <th>41541</th>\n      <td>60</td>\n      <td>retired</td>\n      <td>divorced</td>\n      <td>tertiary</td>\n      <td>1</td>\n      <td>0</td>\n      <td>1</td>\n      <td>0</td>\n      <td>0</td>\n      <td>9</td>\n      <td>2</td>\n      <td>0</td>\n      <td>0</td>\n      <td>1</td>\n    </tr>\n    <tr>\n      <th>44078</th>\n      <td>20</td>\n      <td>management</td>\n      <td>single</td>\n      <td>tertiary</td>\n      <td>1</td>\n      <td>0</td>\n      <td>1</td>\n      <td>0</td>\n      <td>0</td>\n      <td>7</td>\n      <td>1</td>\n      <td>1</td>\n      <td>1</td>\n      <td>1</td>\n    </tr>\n  </tbody>\n</table>\n</div>"
     },
     "metadata": {},
     "execution_count": 12
    }
   ],
   "source": [
    "data.loc[(data['default'] == 1) & (data['y']== 1)]"
   ]
  },
  {
   "cell_type": "code",
   "execution_count": null,
   "metadata": {},
   "outputs": [],
   "source": []
  }
 ]
}