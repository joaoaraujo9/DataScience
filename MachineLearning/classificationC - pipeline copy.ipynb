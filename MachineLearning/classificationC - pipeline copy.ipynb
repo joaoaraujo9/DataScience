{
 "metadata": {
  "language_info": {
   "codemirror_mode": {
    "name": "ipython",
    "version": 3
   },
   "file_extension": ".py",
   "mimetype": "text/x-python",
   "name": "python",
   "nbconvert_exporter": "python",
   "pygments_lexer": "ipython3",
   "version": "3.8.3-final"
  },
  "orig_nbformat": 2,
  "kernelspec": {
   "name": "python3",
   "display_name": "Python 3",
   "language": "python"
  }
 },
 "nbformat": 4,
 "nbformat_minor": 2,
 "cells": [
  {
   "source": [
    "# Imports"
   ],
   "cell_type": "markdown",
   "metadata": {}
  },
  {
   "cell_type": "code",
   "execution_count": 1,
   "metadata": {},
   "outputs": [
    {
     "output_type": "execute_result",
     "data": {
      "text/plain": [
       "       age           job   marital  education  default  balance  housing  \\\n",
       "0       50    management   married   tertiary        0        0        1   \n",
       "1       40    technician    single  secondary        0        0        1   \n",
       "2       30  entrepreneur   married  secondary        0        0        1   \n",
       "3       40   blue-collar   married      other        0        0        1   \n",
       "4       30         other    single      other        0        0        0   \n",
       "...    ...           ...       ...        ...      ...      ...      ...   \n",
       "45185   50    technician   married   tertiary        0        0        0   \n",
       "45186   60       retired  divorced    primary        0        0        0   \n",
       "45187   60       retired   married  secondary        0        2        0   \n",
       "45188   50   blue-collar   married  secondary        0        0        0   \n",
       "45189   30  entrepreneur   married  secondary        0        1        0   \n",
       "\n",
       "       loan  day      month  campaign  pdays  previous  y  \n",
       "0         0    0  Primavera         1     -1         0  0  \n",
       "1         0    0  Primavera         1     -1         0  0  \n",
       "2         1    0  Primavera         1     -1         0  0  \n",
       "3         0    0  Primavera         1     -1         0  0  \n",
       "4         0    0  Primavera         1     -1         0  0  \n",
       "...     ...  ...        ...       ...    ...       ... ..  \n",
       "45185     0    1     Outono         2     -1         0  1  \n",
       "45186     0    1     Outono         2     -1         0  1  \n",
       "45187     0    1     Outono         2      4         2  1  \n",
       "45188     0    1     Outono         2     -1         0  0  \n",
       "45189     0    1     Outono         2      4         2  0  \n",
       "\n",
       "[45190 rows x 14 columns]"
      ],
      "text/html": "<div>\n<style scoped>\n    .dataframe tbody tr th:only-of-type {\n        vertical-align: middle;\n    }\n\n    .dataframe tbody tr th {\n        vertical-align: top;\n    }\n\n    .dataframe thead th {\n        text-align: right;\n    }\n</style>\n<table border=\"1\" class=\"dataframe\">\n  <thead>\n    <tr style=\"text-align: right;\">\n      <th></th>\n      <th>age</th>\n      <th>job</th>\n      <th>marital</th>\n      <th>education</th>\n      <th>default</th>\n      <th>balance</th>\n      <th>housing</th>\n      <th>loan</th>\n      <th>day</th>\n      <th>month</th>\n      <th>campaign</th>\n      <th>pdays</th>\n      <th>previous</th>\n      <th>y</th>\n    </tr>\n  </thead>\n  <tbody>\n    <tr>\n      <th>0</th>\n      <td>50</td>\n      <td>management</td>\n      <td>married</td>\n      <td>tertiary</td>\n      <td>0</td>\n      <td>0</td>\n      <td>1</td>\n      <td>0</td>\n      <td>0</td>\n      <td>Primavera</td>\n      <td>1</td>\n      <td>-1</td>\n      <td>0</td>\n      <td>0</td>\n    </tr>\n    <tr>\n      <th>1</th>\n      <td>40</td>\n      <td>technician</td>\n      <td>single</td>\n      <td>secondary</td>\n      <td>0</td>\n      <td>0</td>\n      <td>1</td>\n      <td>0</td>\n      <td>0</td>\n      <td>Primavera</td>\n      <td>1</td>\n      <td>-1</td>\n      <td>0</td>\n      <td>0</td>\n    </tr>\n    <tr>\n      <th>2</th>\n      <td>30</td>\n      <td>entrepreneur</td>\n      <td>married</td>\n      <td>secondary</td>\n      <td>0</td>\n      <td>0</td>\n      <td>1</td>\n      <td>1</td>\n      <td>0</td>\n      <td>Primavera</td>\n      <td>1</td>\n      <td>-1</td>\n      <td>0</td>\n      <td>0</td>\n    </tr>\n    <tr>\n      <th>3</th>\n      <td>40</td>\n      <td>blue-collar</td>\n      <td>married</td>\n      <td>other</td>\n      <td>0</td>\n      <td>0</td>\n      <td>1</td>\n      <td>0</td>\n      <td>0</td>\n      <td>Primavera</td>\n      <td>1</td>\n      <td>-1</td>\n      <td>0</td>\n      <td>0</td>\n    </tr>\n    <tr>\n      <th>4</th>\n      <td>30</td>\n      <td>other</td>\n      <td>single</td>\n      <td>other</td>\n      <td>0</td>\n      <td>0</td>\n      <td>0</td>\n      <td>0</td>\n      <td>0</td>\n      <td>Primavera</td>\n      <td>1</td>\n      <td>-1</td>\n      <td>0</td>\n      <td>0</td>\n    </tr>\n    <tr>\n      <th>...</th>\n      <td>...</td>\n      <td>...</td>\n      <td>...</td>\n      <td>...</td>\n      <td>...</td>\n      <td>...</td>\n      <td>...</td>\n      <td>...</td>\n      <td>...</td>\n      <td>...</td>\n      <td>...</td>\n      <td>...</td>\n      <td>...</td>\n      <td>...</td>\n    </tr>\n    <tr>\n      <th>45185</th>\n      <td>50</td>\n      <td>technician</td>\n      <td>married</td>\n      <td>tertiary</td>\n      <td>0</td>\n      <td>0</td>\n      <td>0</td>\n      <td>0</td>\n      <td>1</td>\n      <td>Outono</td>\n      <td>2</td>\n      <td>-1</td>\n      <td>0</td>\n      <td>1</td>\n    </tr>\n    <tr>\n      <th>45186</th>\n      <td>60</td>\n      <td>retired</td>\n      <td>divorced</td>\n      <td>primary</td>\n      <td>0</td>\n      <td>0</td>\n      <td>0</td>\n      <td>0</td>\n      <td>1</td>\n      <td>Outono</td>\n      <td>2</td>\n      <td>-1</td>\n      <td>0</td>\n      <td>1</td>\n    </tr>\n    <tr>\n      <th>45187</th>\n      <td>60</td>\n      <td>retired</td>\n      <td>married</td>\n      <td>secondary</td>\n      <td>0</td>\n      <td>2</td>\n      <td>0</td>\n      <td>0</td>\n      <td>1</td>\n      <td>Outono</td>\n      <td>2</td>\n      <td>4</td>\n      <td>2</td>\n      <td>1</td>\n    </tr>\n    <tr>\n      <th>45188</th>\n      <td>50</td>\n      <td>blue-collar</td>\n      <td>married</td>\n      <td>secondary</td>\n      <td>0</td>\n      <td>0</td>\n      <td>0</td>\n      <td>0</td>\n      <td>1</td>\n      <td>Outono</td>\n      <td>2</td>\n      <td>-1</td>\n      <td>0</td>\n      <td>0</td>\n    </tr>\n    <tr>\n      <th>45189</th>\n      <td>30</td>\n      <td>entrepreneur</td>\n      <td>married</td>\n      <td>secondary</td>\n      <td>0</td>\n      <td>1</td>\n      <td>0</td>\n      <td>0</td>\n      <td>1</td>\n      <td>Outono</td>\n      <td>2</td>\n      <td>4</td>\n      <td>2</td>\n      <td>0</td>\n    </tr>\n  </tbody>\n</table>\n<p>45190 rows × 14 columns</p>\n</div>"
     },
     "metadata": {},
     "execution_count": 1
    }
   ],
   "source": [
    "import pandas as pd\n",
    "from sklearn.model_selection import StratifiedKFold\n",
    "from imblearn.pipeline import Pipeline, make_pipeline\n",
    "from sklearn.model_selection import KFold\n",
    "from sklearn.preprocessing import LabelEncoder\n",
    "from imblearn.over_sampling import SMOTE\n",
    "from sklearn.tree import DecisionTreeClassifier\n",
    "from sklearn.neural_network import MLPClassifier\n",
    "from sklearn.ensemble import RandomForestClassifier\n",
    "from sklearn.linear_model import LinearRegression\n",
    "from sklearn.linear_model import LogisticRegression\n",
    "from sklearn.naive_bayes import GaussianNB\n",
    "from sklearn.neighbors import KNeighborsClassifier\n",
    "from sklearn.model_selection import train_test_split\n",
    "from sklearn.metrics import roc_curve, roc_auc_score, confusion_matrix, classification_report, recall_score, precision_score, accuracy_score, f1_score\n",
    "from sklearn.model_selection import cross_validate, cross_val_score, cross_val_predict\n",
    "import plotly.graph_objects as go\n",
    "import numpy as np\n",
    "encoder = LabelEncoder()\n",
    "smote = SMOTE(sampling_strategy=\"minority\")\n",
    "data = pd.read_csv('C:/Users/joao_/Desktop/4 ANO JOAO/SINO/VS CODE PROJETO/Jupyter Notebook/Data Transformation/bank-full-transformed.csv')\n",
    "data"
   ]
  },
  {
   "source": [
    "# Preprocessing Data"
   ],
   "cell_type": "markdown",
   "metadata": {}
  },
  {
   "source": [
    "X = df[[\"marital\", \"education\", \"default\", \"housing\", \"loan\", \"age_range\",\"season\",\"period\" ,\"poutcome_binary\", \"balance_normal\", \"duration_normal\", \"campaign_normal\"]]\n",
    "X['marital'] = encoder.fit_transform(X['marital'])\n",
    "X[\"education\"] = encoder.fit_transform(X[\"education\"])\n",
    "X[\"default\"] = encoder.fit_transform(X[\"default\"])\n",
    "X[\"housing\"] = encoder.fit_transform(X[\"housing\"])\n",
    "X[\"loan\"] = encoder.fit_transform(X[\"loan\"])\n",
    "X[\"season\"] = encoder.fit_transform(X[\"season\"])\n",
    "X[\"period\"] = encoder.fit_transform(X[\"period\"])\n",
    "X[\"poutcome_binary\"] = encoder.fit_transform(X[\"poutcome_binary\"])"
   ],
   "cell_type": "markdown",
   "metadata": {}
  },
  {
   "cell_type": "code",
   "execution_count": 2,
   "metadata": {},
   "outputs": [],
   "source": [
    "def encode(data_train, col):\n",
    "    return pd.concat([data, pd.get_dummies(col, prefix=col.name)], axis=1)\n",
    "\n",
    "data = encode(data, data.job)\n",
    "data = encode(data, data.marital)\n",
    "data = encode(data, data.education)\n",
    "data = encode(data, data.month)\n",
    "\n",
    "\n",
    "data.drop(['job', \"marital\", \"education\", \"month\"], axis=1, inplace=True)"
   ]
  },
  {
   "cell_type": "code",
   "execution_count": 3,
   "metadata": {},
   "outputs": [],
   "source": [
    "X = data.drop([\"y\", \"pdays\"], axis =1)\n",
    "y = data[\"y\"]"
   ]
  },
  {
   "source": [
    "# Models Creation"
   ],
   "cell_type": "markdown",
   "metadata": {}
  },
  {
   "cell_type": "code",
   "execution_count": 4,
   "metadata": {},
   "outputs": [],
   "source": [
    "models = []\n",
    "models.append(('Decision tree', DecisionTreeClassifier(criterion = 'entropy', max_depth = 3, min_samples_leaf = 13)))\n",
    "models.append((\"Logistic Regression\", LogisticRegression(C = 0.01, max_iter = 100, penalty =  'l1', solver =  'liblinear')))\n",
    "models.append((\"MLP\", MLPClassifier(max_iter = 100, solver = 'sgd',learning_rate =  'adaptive', hidden_layer_sizes =  (20,), alpha =  0.05, activation =  'relu')))\n",
    "models.append((\"Random Forest\", RandomForestClassifier(n_estimators = 30, min_samples_split = 0.6, max_features =  'auto', max_depth=16)))\n",
    "models.append((\"Gaussian Naive Bayes\", GaussianNB(var_smoothing = 0.3511191734215131)))\n",
    "models.append((\"K-Nearest Neighbours\", KNeighborsClassifier(n_neighbors = 27, leaf_size = 25, p = 1)))\n",
    "knn = KNeighborsClassifier(n_neighbors = 27, leaf_size = 25, p = 1)"
   ]
  },
  {
   "source": [
    "# Model evaluation"
   ],
   "cell_type": "markdown",
   "metadata": {}
  },
  {
   "source": [
    "## Train test split"
   ],
   "cell_type": "markdown",
   "metadata": {}
  },
  {
   "source": [
    "### Metrics"
   ],
   "cell_type": "markdown",
   "metadata": {}
  },
  {
   "cell_type": "code",
   "execution_count": 5,
   "metadata": {},
   "outputs": [],
   "source": [
    "def get_confusion_matrix_values(y_test, y_pred):\n",
    "    cm = confusion_matrix(y_test, y_pred)\n",
    "    return(cm, cm[0][0], cm[0][1], cm[1][0], cm[1][1])"
   ]
  },
  {
   "cell_type": "code",
   "execution_count": 6,
   "metadata": {},
   "outputs": [],
   "source": [
    "X = X.to_numpy()\n",
    "y = y.to_numpy()"
   ]
  },
  {
   "cell_type": "code",
   "execution_count": 7,
   "metadata": {},
   "outputs": [],
   "source": [
    "# cv = StratifiedKFold(n_splits=5)\n",
    "\n",
    "# #cv = KFold(n_splits=10)\n",
    "# for train_idx, test_idx, in cv.split(X, y):\n",
    "#     X_train, y_train = X[train_idx], y[train_idx]\n",
    "#     X_test, y_test = X[test_idx], y[test_idx]\n",
    "#     X_train, y_train = smote.fit_sample(X_train, y_train)\n",
    "#     model = knn\n",
    "#     model.fit(X_train, y_train)\n",
    "#     y_pred = model.predict(X_test)\n",
    "#     print(f'For fold {fold}:')\n",
    "#     print(f'Accuracy: {model.score(X_test, y_test)}')\n",
    "#     print(f'f-score: {f1_score(y_test, y_pred)}')"
   ]
  },
  {
   "cell_type": "code",
   "execution_count": 8,
   "metadata": {},
   "outputs": [],
   "source": [
    "kf = KFold(n_splits=10)\n",
    "accuracy = []\n",
    "sensivity = []\n",
    "specifity = []\n",
    "precision = []\n",
    "f_measure = []\n",
    "accuracy_module = []\n",
    "sensivity_module = []\n",
    "precision_module = []\n",
    "f_measure_module = []\n",
    "auc_list = []\n",
    "for fold, (train_index, test_index) in enumerate(kf.split(X), 1):\n",
    "    X_train = X[train_index]\n",
    "    y_train = y[train_index]\n",
    "    X_test = X[test_index]\n",
    "    y_test = y[test_index]\n",
    "    X_train_oversampled, y_train_oversampled = smote.fit_sample(X_train, y_train)\n",
    "    model = knn \n",
    "    model.fit(X_train_oversampled, y_train_oversampled)\n",
    "    y_pred = model.predict(X_test)\n",
    "    confusion, TP, FP, FN, TN = get_confusion_matrix_values(y_test, y_pred)\n",
    "    accuracy_matrix = round(((TP + TN) / float(TP + FN + FP + TN)) * 100, 2)\n",
    "    specificity = round(TN / float(TN + FP) * 100, 2)\n",
    "    sensibility_matrix = round((TP / float(TP + FN)) * 100, 2)\n",
    "    precision_matrix = round((TP / float(TP + FP))  * 100, 2)\n",
    "    f_measure_matrix = (2 * precision_matrix * sensibility_matrix) / (precision_matrix + sensibility_matrix)\n",
    "    f_measure_matrix = round(f_measure_matrix, 2)\n",
    "    accuracy_mod = round(accuracy_score(y_test, y_pred) * 100 , 2)\n",
    "    sensibility_mod = round(recall_score(y_test, y_pred, average = 'weighted') * 100, 2)\n",
    "    precision_mod = round(precision_score(y_test, y_pred, average = 'weighted') * 100, 2)\n",
    "    f_measure_mod = round(f1_score(y_test, y_pred, average = 'weighted') * 100 , 2)\n",
    "    y_pred_proba = model.predict_proba(X_test)[::,1]\n",
    "    auc = roc_auc_score(y_test, y_pred_proba)\n",
    "    auc_list.append(auc)\n",
    "    accuracy.append(accuracy_matrix)\n",
    "    sensivity.append(sensibility_matrix)\n",
    "    specifity.append(specificity)\n",
    "    precision.append(precision_matrix)\n",
    "    f_measure.append(f_measure_matrix)\n",
    "    accuracy_module.append(accuracy_mod)\n",
    "    sensivity_module.append(sensibility_mod)\n",
    "    precision_module.append(precision_mod)\n",
    "    f_measure_module.append(f_measure_mod)"
   ]
  },
  {
   "cell_type": "code",
   "execution_count": 9,
   "metadata": {},
   "outputs": [],
   "source": [
    "# scores = [(\"Acuidade\", np.mean(accuracy)), (\"Sensibilidade\", np.mean(sensivity)), (\"Especificidade\", np.mean(specifity)), (\"Precisão\", np.mean(precision)), (\"F-Measure\", np.mean(f_measure)),(\"Acuidade Modulo\", np.mean(accuracy_module)), (\"Sensibilidade Modulo\", np.mean(sensivity_module)), (\"Precisão Modulo\", np.mean(precision_module)), (\"F-Measure Modulo\", np.mean(f_measure_module))]\n",
    "# scores"
   ]
  },
  {
   "cell_type": "code",
   "execution_count": 10,
   "metadata": {},
   "outputs": [
    {
     "output_type": "execute_result",
     "data": {
      "text/plain": [
       "[('Acuidade', 69.811),\n",
       " ('Sensibilidade', 89.53),\n",
       " ('Especificidade', 14.459999999999999),\n",
       " ('Precisão', 71.551),\n",
       " ('F-Measure', 78.92699999999999),\n",
       " ('AUC', 0.5576790141008238)]"
      ]
     },
     "metadata": {},
     "execution_count": 10
    }
   ],
   "source": [
    "scores = [(\"Acuidade\", np.mean(accuracy)), (\"Sensibilidade\", np.mean(sensivity)), (\"Especificidade\", np.mean(specifity)), (\"Precisão\", np.mean(precision)), (\"F-Measure\", np.mean(f_measure)), (\"AUC\", np.mean(auc_list))]\n",
    "scores"
   ]
  },
  {
   "cell_type": "code",
   "execution_count": 11,
   "metadata": {},
   "outputs": [
    {
     "output_type": "execute_result",
     "data": {
      "text/plain": [
       "[('Acuidade Modulo', 69.811),\n",
       " ('Sensibilidade Modulo', 69.811),\n",
       " ('Precisão Modulo', 83.855),\n",
       " ('F-Measure Modulo', 74.90100000000001)]"
      ]
     },
     "metadata": {},
     "execution_count": 11
    }
   ],
   "source": [
    "scores = [(\"Acuidade Modulo\", np.mean(accuracy_module)), (\"Sensibilidade Modulo\", np.mean(sensivity_module)), (\"Precisão Modulo\", np.mean(precision_module)), (\"F-Measure Modulo\", np.mean(f_measure_module))]\n",
    "scores"
   ]
  }
 ]
}