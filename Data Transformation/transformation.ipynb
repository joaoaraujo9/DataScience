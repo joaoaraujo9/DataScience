{
 "metadata": {
  "language_info": {
   "codemirror_mode": {
    "name": "ipython",
    "version": 3
   },
   "file_extension": ".py",
   "mimetype": "text/x-python",
   "name": "python",
   "nbconvert_exporter": "python",
   "pygments_lexer": "ipython3",
   "version": "3.8.3-final"
  },
  "orig_nbformat": 2,
  "kernelspec": {
   "name": "python3",
   "display_name": "Python 3",
   "language": "python"
  }
 },
 "nbformat": 4,
 "nbformat_minor": 2,
 "cells": [
  {
   "cell_type": "code",
   "execution_count": 1,
   "metadata": {},
   "outputs": [],
   "source": [
    "import pandas as pd \n",
    "import seaborn as sns\n",
    "import numpy as np\n",
    "import matplotlib.pyplot as plt"
   ]
  },
  {
   "cell_type": "code",
   "execution_count": 2,
   "metadata": {},
   "outputs": [],
   "source": [
    "data = pd.read_csv('C:/Users/joao_/Desktop/4 ANO JOAO/SINO/VS CODE PROJETO/Datasets/bank-Full-columns.csv')"
   ]
  },
  {
   "cell_type": "code",
   "execution_count": 4,
   "metadata": {},
   "outputs": [],
   "source": [
    "list = [data]\n",
    "\n",
    "for column in list:\n",
    "    column.loc[column[\"month\"] == \"jan\", \"month\"] = \"Inverno\"\n",
    "    column.loc[column[\"month\"] == \"feb\", \"month\"] = \"Inverno\"\n",
    "    column.loc[column[\"month\"] == \"mar\", \"month\"] = \"Inverno\"\n",
    "    column.loc[column[\"month\"] == \"apr\", \"month\"] = \"Primavera\"\n",
    "    column.loc[column[\"month\"] == \"may\", \"month\"] = \"Primavera\"\n",
    "    column.loc[column[\"month\"] == \"jun\", \"month\"] = \"Primavera\"\n",
    "    column.loc[column[\"month\"] == \"jul\", \"month\"] = \"Verão\"\n",
    "    column.loc[column[\"month\"] == \"aug\", \"month\"] = \"Verão\"\n",
    "    column.loc[column[\"month\"] == \"sep\", \"month\"] = \"Verão\"\n",
    "    column.loc[column[\"month\"] == \"oct\", \"month\"] = \"Outono\"\n",
    "    column.loc[column[\"month\"] == \"nov\", \"month\"] = \"Outono\"\n",
    "    column.loc[column[\"month\"] == \"dec\", \"month\"] = \"Outono\""
   ]
  },
  {
   "cell_type": "code",
   "execution_count": 3,
   "metadata": {},
   "outputs": [
    {
     "output_type": "execute_result",
     "data": {
      "text/plain": [
       "   age           job  marital  education default  balance housing loan  day  \\\n",
       "0   58    management  married   tertiary      no     2143     yes   no    5   \n",
       "1   44    technician   single  secondary      no       29     yes   no    5   \n",
       "2   33  entrepreneur  married  secondary      no        2     yes  yes    5   \n",
       "3   47   blue-collar  married      other      no     1506     yes   no    5   \n",
       "4   33         other   single      other      no        1      no   no    5   \n",
       "\n",
       "  month  campaign  pdays  previous   y  \n",
       "0   may         1     -1         0  no  \n",
       "1   may         1     -1         0  no  \n",
       "2   may         1     -1         0  no  \n",
       "3   may         1     -1         0  no  \n",
       "4   may         1     -1         0  no  "
      ],
      "text/html": "<div>\n<style scoped>\n    .dataframe tbody tr th:only-of-type {\n        vertical-align: middle;\n    }\n\n    .dataframe tbody tr th {\n        vertical-align: top;\n    }\n\n    .dataframe thead th {\n        text-align: right;\n    }\n</style>\n<table border=\"1\" class=\"dataframe\">\n  <thead>\n    <tr style=\"text-align: right;\">\n      <th></th>\n      <th>age</th>\n      <th>job</th>\n      <th>marital</th>\n      <th>education</th>\n      <th>default</th>\n      <th>balance</th>\n      <th>housing</th>\n      <th>loan</th>\n      <th>day</th>\n      <th>month</th>\n      <th>campaign</th>\n      <th>pdays</th>\n      <th>previous</th>\n      <th>y</th>\n    </tr>\n  </thead>\n  <tbody>\n    <tr>\n      <th>0</th>\n      <td>58</td>\n      <td>management</td>\n      <td>married</td>\n      <td>tertiary</td>\n      <td>no</td>\n      <td>2143</td>\n      <td>yes</td>\n      <td>no</td>\n      <td>5</td>\n      <td>may</td>\n      <td>1</td>\n      <td>-1</td>\n      <td>0</td>\n      <td>no</td>\n    </tr>\n    <tr>\n      <th>1</th>\n      <td>44</td>\n      <td>technician</td>\n      <td>single</td>\n      <td>secondary</td>\n      <td>no</td>\n      <td>29</td>\n      <td>yes</td>\n      <td>no</td>\n      <td>5</td>\n      <td>may</td>\n      <td>1</td>\n      <td>-1</td>\n      <td>0</td>\n      <td>no</td>\n    </tr>\n    <tr>\n      <th>2</th>\n      <td>33</td>\n      <td>entrepreneur</td>\n      <td>married</td>\n      <td>secondary</td>\n      <td>no</td>\n      <td>2</td>\n      <td>yes</td>\n      <td>yes</td>\n      <td>5</td>\n      <td>may</td>\n      <td>1</td>\n      <td>-1</td>\n      <td>0</td>\n      <td>no</td>\n    </tr>\n    <tr>\n      <th>3</th>\n      <td>47</td>\n      <td>blue-collar</td>\n      <td>married</td>\n      <td>other</td>\n      <td>no</td>\n      <td>1506</td>\n      <td>yes</td>\n      <td>no</td>\n      <td>5</td>\n      <td>may</td>\n      <td>1</td>\n      <td>-1</td>\n      <td>0</td>\n      <td>no</td>\n    </tr>\n    <tr>\n      <th>4</th>\n      <td>33</td>\n      <td>other</td>\n      <td>single</td>\n      <td>other</td>\n      <td>no</td>\n      <td>1</td>\n      <td>no</td>\n      <td>no</td>\n      <td>5</td>\n      <td>may</td>\n      <td>1</td>\n      <td>-1</td>\n      <td>0</td>\n      <td>no</td>\n    </tr>\n  </tbody>\n</table>\n</div>"
     },
     "metadata": {},
     "execution_count": 3
    }
   ],
   "source": [
    "data.head()"
   ]
  },
  {
   "source": [
    "list = [data]\n",
    "\n",
    "for column in list:\n",
    "    column.loc[column[\"month\"] == \"jan\", \"month\"] = 1\n",
    "    column.loc[column[\"month\"] == \"feb\", \"month\"] = 2\n",
    "    column.loc[column[\"month\"] == \"mar\", \"month\"] = 3\n",
    "    column.loc[column[\"month\"] == \"apr\", \"month\"] = 4\n",
    "    column.loc[column[\"month\"] == \"may\", \"month\"] = 5\n",
    "    column.loc[column[\"month\"] == \"jun\", \"month\"] = 6\n",
    "    column.loc[column[\"month\"] == \"jul\", \"month\"] = 7\n",
    "    column.loc[column[\"month\"] == \"aug\", \"month\"] = 8\n",
    "    column.loc[column[\"month\"] == \"sep\", \"month\"] = 9\n",
    "    column.loc[column[\"month\"] == \"oct\", \"month\"] = 10\n",
    "    column.loc[column[\"month\"] == \"nov\", \"month\"] = 11\n",
    "    column.loc[column[\"month\"] == \"dec\", \"month\"] = 12"
   ],
   "cell_type": "markdown",
   "metadata": {}
  },
  {
   "source": [
    "list = [data]\n",
    "\n",
    "for column in list:\n",
    "    column.loc[column[\"job\"] == \"blue-collar\", \"job\"] = 'employee'\n",
    "    column.loc[column[\"job\"] == \"management\", \"job\"] = 'employee'\n",
    "    column.loc[column[\"job\"] == \"technician\", \"job\"] = 'employee'\n",
    "    column.loc[column[\"job\"] == \"admin.\", \"job\"] = 'employee'\n",
    "    column.loc[column[\"job\"] == \"services\", \"job\"] = 'employee'\n",
    "    column.loc[column[\"job\"] == \"housemaid\", \"job\"] = 'employee'\n",
    "    column.loc[column[\"job\"] == \"entrepreneur\", \"job\"] = 'employee'\n",
    "    column.loc[column[\"job\"] == \"student\", \"job\"] = 'student'\n",
    "    column.loc[column[\"job\"] == \"retired\", \"job\"] = 'retired'\n",
    "    column.loc[column[\"job\"] == \"unemployed\", \"job\"] = 'unemploye'\n",
    "    column.loc[column[\"job\"] == \"unknown\", \"job\"] = 'unknown'"
   ],
   "cell_type": "markdown",
   "metadata": {}
  },
  {
   "source": [
    "list = [data]\n",
    "\n",
    "for column in list:\n",
    "    column.loc[column[\"marital\"] == \"divorced\", \"marital\"] = 'not married'\n",
    "    column.loc[column[\"marital\"] == \"single\", \"marital\"] = 'not married'"
   ],
   "cell_type": "markdown",
   "metadata": {}
  },
  {
   "cell_type": "code",
   "execution_count": 5,
   "metadata": {},
   "outputs": [],
   "source": [
    "lst = [data]\n",
    "\n",
    "for column in lst:\n",
    "    column.loc[column[\"balance\"] < 0,  'balance'] = -1\n",
    "    column.loc[(column[\"balance\"] >= 0) & (column[\"balance\"] <= 2500), 'balance'] = 0\n",
    "    column.loc[(column[\"balance\"] >= 2500) & (column[\"balance\"] <= 5000), 'balance'] = 1\n",
    "    column.loc[column[\"balance\"] >= 5000, 'balance'] = 2"
   ]
  },
  {
   "cell_type": "code",
   "execution_count": 6,
   "metadata": {},
   "outputs": [],
   "source": [
    "lst = [data]\n",
    "\n",
    "for column in lst:\n",
    "    column.loc[column[\"age\"] < 30,  'age'] = 20\n",
    "    column.loc[(column[\"age\"] >= 30) & (column[\"age\"] <= 39), 'age'] = 30\n",
    "    column.loc[(column[\"age\"] >= 40) & (column[\"age\"] <= 49), 'age'] = 40\n",
    "    column.loc[(column[\"age\"] >= 50) & (column[\"age\"] <= 59), 'age'] = 50\n",
    "    column.loc[column[\"age\"] >= 60, 'age'] = 60"
   ]
  },
  {
   "cell_type": "code",
   "execution_count": 7,
   "metadata": {},
   "outputs": [],
   "source": [
    "lst = [data]\n",
    "\n",
    "for column in lst:\n",
    "    column.loc[column[\"day\"] <= 15,  'day'] = 0\n",
    "    column.loc[column[\"day\"] > 15, 'day'] = 1"
   ]
  },
  {
   "cell_type": "code",
   "execution_count": 8,
   "metadata": {},
   "outputs": [],
   "source": [
    "lst = [data]\n",
    "\n",
    "for column in lst:\n",
    "    column.loc[column[\"campaign\"] == 1,  'campaign'] = 1\n",
    "    column.loc[column[\"campaign\"] > 1,  'campaign'] = 2"
   ]
  },
  {
   "source": [
    "lst = [data]\n",
    "\n",
    "for column in lst:\n",
    "    column.loc[column[\"pdays\"] == -1, 'pdays'] = 0\n",
    "    column.loc[column[\"pdays\"] >= 1 & (column[\"pdays\"] <= 30), 'pdays'] = 1\n",
    "    column.loc[column[\"pdays\"] > 30 , 'pdays'] = 2"
   ],
   "cell_type": "markdown",
   "metadata": {}
  },
  {
   "cell_type": "code",
   "execution_count": 9,
   "metadata": {},
   "outputs": [],
   "source": [
    "lst = [data]\n",
    "\n",
    "for column in lst:\n",
    "    column.loc[(column['pdays'] == 999), 'pdays'] = 1\n",
    "    column.loc[(column['pdays'] > 0) & (column['pdays'] <= 10), 'pdays'] = 2\n",
    "    column.loc[(column['pdays'] > 10) & (column['pdays'] <= 20), 'pdays'] = 3\n",
    "    column.loc[(column['pdays'] > 20) & (column['pdays'] != 999), 'pdays'] = 4 "
   ]
  },
  {
   "cell_type": "code",
   "execution_count": 10,
   "metadata": {},
   "outputs": [],
   "source": [
    "lst = [data]\n",
    "\n",
    "for column in lst:\n",
    "    column.loc[column[\"previous\"] == 0,  'previous'] = 0\n",
    "    column.loc[column[\"previous\"] == 1,  'previous'] = 1\n",
    "    column.loc[column[\"previous\"] > 1,  'previous'] = 2"
   ]
  },
  {
   "cell_type": "code",
   "execution_count": 11,
   "metadata": {},
   "outputs": [],
   "source": [
    "lst = [data]\n",
    "\n",
    "for column in lst:\n",
    "    column.loc[column[\"default\"] == \"no\",  'default'] = 0\n",
    "    column.loc[column[\"default\"] == \"yes\",  'default'] = 1"
   ]
  },
  {
   "cell_type": "code",
   "execution_count": 12,
   "metadata": {},
   "outputs": [],
   "source": [
    "lst = [data]\n",
    "\n",
    "for column in lst:\n",
    "    column.loc[column[\"loan\"] == \"no\",  'loan'] = 0\n",
    "    column.loc[column[\"loan\"] == \"yes\",  'loan'] = 1"
   ]
  },
  {
   "cell_type": "code",
   "execution_count": 13,
   "metadata": {},
   "outputs": [],
   "source": [
    "lst = [data]\n",
    "\n",
    "for column in lst:\n",
    "    column.loc[column[\"housing\"] == \"no\",  'housing'] = 0\n",
    "    column.loc[column[\"housing\"] == \"yes\",  'housing'] = 1"
   ]
  },
  {
   "cell_type": "code",
   "execution_count": 14,
   "metadata": {},
   "outputs": [],
   "source": [
    "lst = [data]\n",
    "\n",
    "for column in lst:\n",
    "    column.loc[column[\"y\"] == \"no\",  'y'] = 0\n",
    "    column.loc[column[\"y\"] == \"yes\",  'y'] = 1"
   ]
  },
  {
   "cell_type": "code",
   "execution_count": 15,
   "metadata": {},
   "outputs": [
    {
     "output_type": "execute_result",
     "data": {
      "text/plain": [
       "   age           job  marital  education default  balance housing loan  day  \\\n",
       "0   50    management  married   tertiary       0        0       1    0    0   \n",
       "1   40    technician   single  secondary       0        0       1    0    0   \n",
       "2   30  entrepreneur  married  secondary       0        0       1    1    0   \n",
       "3   40   blue-collar  married      other       0        0       1    0    0   \n",
       "4   30         other   single      other       0        0       0    0    0   \n",
       "\n",
       "       month  campaign  pdays  previous  y  \n",
       "0  Primavera         1     -1         0  0  \n",
       "1  Primavera         1     -1         0  0  \n",
       "2  Primavera         1     -1         0  0  \n",
       "3  Primavera         1     -1         0  0  \n",
       "4  Primavera         1     -1         0  0  "
      ],
      "text/html": "<div>\n<style scoped>\n    .dataframe tbody tr th:only-of-type {\n        vertical-align: middle;\n    }\n\n    .dataframe tbody tr th {\n        vertical-align: top;\n    }\n\n    .dataframe thead th {\n        text-align: right;\n    }\n</style>\n<table border=\"1\" class=\"dataframe\">\n  <thead>\n    <tr style=\"text-align: right;\">\n      <th></th>\n      <th>age</th>\n      <th>job</th>\n      <th>marital</th>\n      <th>education</th>\n      <th>default</th>\n      <th>balance</th>\n      <th>housing</th>\n      <th>loan</th>\n      <th>day</th>\n      <th>month</th>\n      <th>campaign</th>\n      <th>pdays</th>\n      <th>previous</th>\n      <th>y</th>\n    </tr>\n  </thead>\n  <tbody>\n    <tr>\n      <th>0</th>\n      <td>50</td>\n      <td>management</td>\n      <td>married</td>\n      <td>tertiary</td>\n      <td>0</td>\n      <td>0</td>\n      <td>1</td>\n      <td>0</td>\n      <td>0</td>\n      <td>Primavera</td>\n      <td>1</td>\n      <td>-1</td>\n      <td>0</td>\n      <td>0</td>\n    </tr>\n    <tr>\n      <th>1</th>\n      <td>40</td>\n      <td>technician</td>\n      <td>single</td>\n      <td>secondary</td>\n      <td>0</td>\n      <td>0</td>\n      <td>1</td>\n      <td>0</td>\n      <td>0</td>\n      <td>Primavera</td>\n      <td>1</td>\n      <td>-1</td>\n      <td>0</td>\n      <td>0</td>\n    </tr>\n    <tr>\n      <th>2</th>\n      <td>30</td>\n      <td>entrepreneur</td>\n      <td>married</td>\n      <td>secondary</td>\n      <td>0</td>\n      <td>0</td>\n      <td>1</td>\n      <td>1</td>\n      <td>0</td>\n      <td>Primavera</td>\n      <td>1</td>\n      <td>-1</td>\n      <td>0</td>\n      <td>0</td>\n    </tr>\n    <tr>\n      <th>3</th>\n      <td>40</td>\n      <td>blue-collar</td>\n      <td>married</td>\n      <td>other</td>\n      <td>0</td>\n      <td>0</td>\n      <td>1</td>\n      <td>0</td>\n      <td>0</td>\n      <td>Primavera</td>\n      <td>1</td>\n      <td>-1</td>\n      <td>0</td>\n      <td>0</td>\n    </tr>\n    <tr>\n      <th>4</th>\n      <td>30</td>\n      <td>other</td>\n      <td>single</td>\n      <td>other</td>\n      <td>0</td>\n      <td>0</td>\n      <td>0</td>\n      <td>0</td>\n      <td>0</td>\n      <td>Primavera</td>\n      <td>1</td>\n      <td>-1</td>\n      <td>0</td>\n      <td>0</td>\n    </tr>\n  </tbody>\n</table>\n</div>"
     },
     "metadata": {},
     "execution_count": 15
    }
   ],
   "source": [
    "data.head()"
   ]
  },
  {
   "cell_type": "code",
   "execution_count": 16,
   "metadata": {},
   "outputs": [],
   "source": [
    "data.to_csv('Bank-full-transformed.csv', index=False) "
   ]
  }
 ]
}